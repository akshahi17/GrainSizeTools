{
 "cells": [
  {
   "cell_type": "markdown",
   "metadata": {},
   "source": [
    "# Using the GrainSizeTools script through JupyterLab or the notebook: first steps\n",
    "\n",
    "> IMPORTANT NOTE: This Jupyter notebook example only applies to GrainSizeTools v3.0+ Please check your script version before using this notebook. You will be able to reproduce all the results shown in this tutorial using the dataset provided with the script, the ```file data_set.txt```\n",
    "\n",
    "## Running the script in Jupyter lab/notebooks\n",
    "\n",
    "The first step is to execute the code to get all the functionalities. JupyterLab (or Jupyter notebooks) allows you to run any code using the following code snippet: ``%run + the Python file to run``. In this case you must set the full filepath that indicates where the file ``GrainSizeTools_script.py`` is located in your system. If the script was executed correctly you will see that all GrainSizeTools (GST) modules have been loaded correctly and a welcome message as follows:"
   ]
  },
  {
   "cell_type": "code",
   "execution_count": 1,
   "metadata": {},
   "outputs": [
    {
     "output_type": "stream",
     "name": "stdout",
     "text": [
      "module plot imported\nmodule averages imported\nmodule stereology imported\nmodule piezometers imported\nmodule template imported\n\n======================================================================================\nWelcome to GrainSizeTools script\n======================================================================================\nA free open-source cross-platform script to visualize and characterize grain size\npopulation and estimate differential stress via paleopizometers.\n\nVersion: v3.0.2 (2020-12-30)\nDocumentation: https://marcoalopez.github.io/GrainSizeTools/\n\nType get.functions_list() to get a list of the main methods\n\n"
     ]
    }
   ],
   "source": [
    "%run C:/Users/marco/Documents/GitHub/GrainSizeTools/grain_size_tools/GrainSizeTools_script.py"
   ]
  },
  {
   "cell_type": "markdown",
   "metadata": {},
   "source": [
    "---\n",
    "\n",
    "## Get information on the GrainSizeTools methods\n",
    "\n",
    "First, to get a list of the main methods type"
   ]
  },
  {
   "cell_type": "code",
   "execution_count": 2,
   "metadata": {},
   "outputs": [
    {
     "output_type": "stream",
     "name": "stdout",
     "text": [
      "\n======================================================================================\nList of main functions\n======================================================================================\nsummarize              -> get the properties of the data population\nconf_interval          -> estimate a robust confidence interval using the t-distribution\ncalc_diffstress        -> estimate diff. stress from grain size using piezometers\n\nplot.distribution      -> visualize the distribution of grain sizes and locate the averages\nplot.qq_plot           -> test the lognormality of the dataset (q-q plot + Shapiro-Wilk test)\nplot.area_weighted     -> visualize the area-weighed distribution of grain sizes\nplot.normalized        -> visualize a normalized distribution of grain sizes\n\nstereology.Saltykov    -> approximate the actual grain size distribution via the Saltykov method\nstereology.calc_shape  -> approximate the lognormal shape of the actual distribution\n======================================================================================\n\nYou can get more information about the methods using the following ways:\n    (1) Typing ? or ?? after the function name, e.g. ?summarize\n    (2) Typing help plus the name of the function, e.g. help(summarize)\n    (3) In the Spyder IDE by writing the name of the function and clicking Ctrl + I\n    (4) In Jupyter lab/notebook by enabling the \"Show contextual help\", the info\n    will pop up as soon as you write the name of the function.\n\n"
     ]
    }
   ],
   "source": [
    "get.functions_list()"
   ]
  },
  {
   "cell_type": "markdown",
   "metadata": {},
   "source": [
    "The script is implemented around several modules. To access a method within a module you will have to type the name of the module and then, separated by a dot, the name of the method.For example to access the method ``qq_plot`` of the plot module you should write\n",
    "\n",
    "```python\n",
    "plot.qq_plot()\n",
    "```\n",
    "and then provide the required parameters within the parenthesis.\n",
    "\n",
    "To access the methods within a module, type the module name plus the dot and hit the tab key and a complete list of methods will pop up.\n",
    "\n",
    "### Get detailed information on methods\n",
    "\n",
    "You can get detailed information about any method or function of the script in different ways. The first is through the console using the character ? before the method"
   ]
  },
  {
   "cell_type": "code",
   "execution_count": 3,
   "metadata": {},
   "outputs": [
    {
     "output_type": "stream",
     "text": [
      "\u001b[1;31mSignature:\u001b[0m \u001b[0mconf_interval\u001b[0m\u001b[1;33m(\u001b[0m\u001b[0mdata\u001b[0m\u001b[1;33m,\u001b[0m \u001b[0mconfidence\u001b[0m\u001b[1;33m=\u001b[0m\u001b[1;36m0.95\u001b[0m\u001b[1;33m)\u001b[0m\u001b[1;33m\u001b[0m\u001b[1;33m\u001b[0m\u001b[0m\n",
      "\u001b[1;31mDocstring:\u001b[0m\n",
      "Estimate the confidence interval using the t-distribution with n-1\n",
      "degrees of freedom t(n-1). This is the way to go when sample size is\n",
      "small (n < 30) and the standard deviation cannot be estimated accurately.\n",
      "For large datasets, the t-distribution approaches the normal distribution.\n",
      "\n",
      "Parameters\n",
      "----------\n",
      "data : array-like\n",
      "    the dataset\n",
      "\n",
      "confidence : float between 0 and 1, optional\n",
      "    the confidence interval, default = 0.95\n",
      "\n",
      "Assumptions\n",
      "-----------\n",
      "the data follows a normal or symmetric distrubution (when sample size\n",
      "is large)\n",
      "\n",
      "call_function(s)\n",
      "----------------\n",
      "Scipy's t.interval\n",
      "\n",
      "Returns\n",
      "-------\n",
      "the arithmetic mean, the error, and the limits of the confidence interval\n",
      "\u001b[1;31mFile:\u001b[0m      c:\\users\\marco\\documents\\github\\grainsizetools\\grain_size_tools\\grainsizetools_script.py\n",
      "\u001b[1;31mType:\u001b[0m      function\n"
     ],
     "name": "stdout"
    }
   ],
   "source": [
    "?conf_interval"
   ]
  },
  {
   "cell_type": "markdown",
   "metadata": {},
   "source": [
    "Another option in Jupyter's lab is to get the information interactively without having to call it from the console. To do this, right-click on the mouse and select \"Show Context Help\" from the menu. Now, every time you write a method in the interactive console, all the information will automatically appear in the \"Contextual help\" window. In this case, you may prefer to rearrange the windows using drag and drop so that you can see the notebook and the contextual help in parallel."
   ]
  },
  {
   "cell_type": "markdown",
   "metadata": {},
   "source": [
    "---\n",
    "\n",
    "# Importing tabular data\n",
    "\n",
    "For this, [Pandas](https://pandas.pydata.org/about/index.html) is the de facto standard Python library for data analysis and manipulation of table-like datasets (CSV, excel or text files among others). The library includes several tools for reading files and handling of missing data and when running the GrainSizeTools script pandas is imported as ```pd``` for its general use.\n",
    "\n",
    "All Pandas methods to read data are all named ```pd.read_*``` where * is the file type. For example:\n",
    "\n",
    "```python\n",
    "pd.read_csv()      # read csv or txt files, default delimiter is ','\n",
    "pd.read_table()    # read general delimited file, default delimiter is '\\t' (TAB)\n",
    "pd.read_excel()    # read excel files\n",
    "pd.read_html()     # read HTML tables\n",
    "# etc.\n",
    "```\n",
    "For other supported file types see https://pandas.pydata.org/pandas-docs/stable/user_guide/io.html\n",
    "\n",
    "The only mandatory argument for the reading methods is to define the path (local or URL) with the location of the file to be imported as follows."
   ]
  },
  {
   "cell_type": "code",
   "execution_count": 4,
   "metadata": {},
   "outputs": [
    {
     "output_type": "execute_result",
     "data": {
      "text/plain": [
       "               Area  Circ.    Feret  FeretX  FeretY  FeretAngle  MinFeret  \\\n",
       "0        1   157.25  0.680   18.062  1535.0     0.5     131.634    13.500   \n",
       "1        2  2059.75  0.771   62.097   753.5    16.5     165.069    46.697   \n",
       "2        3  1961.50  0.842   57.871   727.0    65.0      71.878    46.923   \n",
       "3        4  5428.50  0.709  114.657  1494.5    83.5      19.620    63.449   \n",
       "4        5   374.00  0.699   29.262  2328.0    34.0      33.147    16.000   \n",
       "...    ...      ...    ...      ...     ...     ...         ...       ...   \n",
       "2656  2657   452.50  0.789   28.504  1368.0  1565.5     127.875    22.500   \n",
       "2657  2658  1081.25  0.756   47.909  1349.5  1569.5     108.246    31.363   \n",
       "2658  2659   513.50  0.720   32.962  1373.0  1586.0     112.286    20.496   \n",
       "2659  2660   277.75  0.627   29.436  1316.0  1601.5     159.102    17.002   \n",
       "2660  2661   725.00  0.748   39.437  1335.5  1615.5     129.341    28.025   \n",
       "\n",
       "         AR  Round  Solidity  \n",
       "0     1.101  0.908     0.937  \n",
       "1     1.314  0.761     0.972  \n",
       "2     1.139  0.878     0.972  \n",
       "3     1.896  0.528     0.947  \n",
       "4     1.515  0.660     0.970  \n",
       "...     ...    ...       ...  \n",
       "2656  1.235  0.810     0.960  \n",
       "2657  1.446  0.692     0.960  \n",
       "2658  1.493  0.670     0.953  \n",
       "2659  1.727  0.579     0.920  \n",
       "2660  1.351  0.740     0.960  \n",
       "\n",
       "[2661 rows x 11 columns]"
      ],
      "text/html": "<div>\n<style scoped>\n    .dataframe tbody tr th:only-of-type {\n        vertical-align: middle;\n    }\n\n    .dataframe tbody tr th {\n        vertical-align: top;\n    }\n\n    .dataframe thead th {\n        text-align: right;\n    }\n</style>\n<table border=\"1\" class=\"dataframe\">\n  <thead>\n    <tr style=\"text-align: right;\">\n      <th></th>\n      <th></th>\n      <th>Area</th>\n      <th>Circ.</th>\n      <th>Feret</th>\n      <th>FeretX</th>\n      <th>FeretY</th>\n      <th>FeretAngle</th>\n      <th>MinFeret</th>\n      <th>AR</th>\n      <th>Round</th>\n      <th>Solidity</th>\n    </tr>\n  </thead>\n  <tbody>\n    <tr>\n      <th>0</th>\n      <td>1</td>\n      <td>157.25</td>\n      <td>0.680</td>\n      <td>18.062</td>\n      <td>1535.0</td>\n      <td>0.5</td>\n      <td>131.634</td>\n      <td>13.500</td>\n      <td>1.101</td>\n      <td>0.908</td>\n      <td>0.937</td>\n    </tr>\n    <tr>\n      <th>1</th>\n      <td>2</td>\n      <td>2059.75</td>\n      <td>0.771</td>\n      <td>62.097</td>\n      <td>753.5</td>\n      <td>16.5</td>\n      <td>165.069</td>\n      <td>46.697</td>\n      <td>1.314</td>\n      <td>0.761</td>\n      <td>0.972</td>\n    </tr>\n    <tr>\n      <th>2</th>\n      <td>3</td>\n      <td>1961.50</td>\n      <td>0.842</td>\n      <td>57.871</td>\n      <td>727.0</td>\n      <td>65.0</td>\n      <td>71.878</td>\n      <td>46.923</td>\n      <td>1.139</td>\n      <td>0.878</td>\n      <td>0.972</td>\n    </tr>\n    <tr>\n      <th>3</th>\n      <td>4</td>\n      <td>5428.50</td>\n      <td>0.709</td>\n      <td>114.657</td>\n      <td>1494.5</td>\n      <td>83.5</td>\n      <td>19.620</td>\n      <td>63.449</td>\n      <td>1.896</td>\n      <td>0.528</td>\n      <td>0.947</td>\n    </tr>\n    <tr>\n      <th>4</th>\n      <td>5</td>\n      <td>374.00</td>\n      <td>0.699</td>\n      <td>29.262</td>\n      <td>2328.0</td>\n      <td>34.0</td>\n      <td>33.147</td>\n      <td>16.000</td>\n      <td>1.515</td>\n      <td>0.660</td>\n      <td>0.970</td>\n    </tr>\n    <tr>\n      <th>...</th>\n      <td>...</td>\n      <td>...</td>\n      <td>...</td>\n      <td>...</td>\n      <td>...</td>\n      <td>...</td>\n      <td>...</td>\n      <td>...</td>\n      <td>...</td>\n      <td>...</td>\n      <td>...</td>\n    </tr>\n    <tr>\n      <th>2656</th>\n      <td>2657</td>\n      <td>452.50</td>\n      <td>0.789</td>\n      <td>28.504</td>\n      <td>1368.0</td>\n      <td>1565.5</td>\n      <td>127.875</td>\n      <td>22.500</td>\n      <td>1.235</td>\n      <td>0.810</td>\n      <td>0.960</td>\n    </tr>\n    <tr>\n      <th>2657</th>\n      <td>2658</td>\n      <td>1081.25</td>\n      <td>0.756</td>\n      <td>47.909</td>\n      <td>1349.5</td>\n      <td>1569.5</td>\n      <td>108.246</td>\n      <td>31.363</td>\n      <td>1.446</td>\n      <td>0.692</td>\n      <td>0.960</td>\n    </tr>\n    <tr>\n      <th>2658</th>\n      <td>2659</td>\n      <td>513.50</td>\n      <td>0.720</td>\n      <td>32.962</td>\n      <td>1373.0</td>\n      <td>1586.0</td>\n      <td>112.286</td>\n      <td>20.496</td>\n      <td>1.493</td>\n      <td>0.670</td>\n      <td>0.953</td>\n    </tr>\n    <tr>\n      <th>2659</th>\n      <td>2660</td>\n      <td>277.75</td>\n      <td>0.627</td>\n      <td>29.436</td>\n      <td>1316.0</td>\n      <td>1601.5</td>\n      <td>159.102</td>\n      <td>17.002</td>\n      <td>1.727</td>\n      <td>0.579</td>\n      <td>0.920</td>\n    </tr>\n    <tr>\n      <th>2660</th>\n      <td>2661</td>\n      <td>725.00</td>\n      <td>0.748</td>\n      <td>39.437</td>\n      <td>1335.5</td>\n      <td>1615.5</td>\n      <td>129.341</td>\n      <td>28.025</td>\n      <td>1.351</td>\n      <td>0.740</td>\n      <td>0.960</td>\n    </tr>\n  </tbody>\n</table>\n<p>2661 rows × 11 columns</p>\n</div>"
     },
     "metadata": {},
     "execution_count": 4
    }
   ],
   "source": [
    "# set the filepath, note that is enclosed in quotation marks\n",
    "filepath = 'C:/Users/marco/Documents/GitHub/GrainSizeTools/grain_size_tools/DATA/data_set.txt'\n",
    "\n",
    "# import the data\n",
    "dataset = pd.read_table(filepath)\n",
    "\n",
    "#display the data\n",
    "dataset"
   ]
  },
  {
   "cell_type": "markdown",
   "metadata": {},
   "source": [
    "Some important things to note about the code snippet used above are:\n",
    "\n",
    "- We used the ``pd.read_table()`` method to import the file. By default, this method assumes that the data to import is stored in a text file separated by tabs. Alternatively you can use the ``pd.read_csv()`` method (note that csv means comma-separated values) and set the delimiter to ``'\\t'`` as follows: ``pd.read_csv(filepath, sep='\\t')``.\n",
    "- When calling the variable ``dataset`` it returs a visualization of the dataset imported, which is a tabular-like dataset with 2661 entries and 11 columns with different grain properties.\n",
    "\n",
    "In Python, this type of tabular-like objects are called (Pandas) *DataFrame* and allow a flexible and easy to use data analysis. Just for checking:"
   ]
  },
  {
   "cell_type": "code",
   "execution_count": 5,
   "metadata": {},
   "outputs": [
    {
     "output_type": "execute_result",
     "data": {
      "text/plain": [
       "pandas.core.frame.DataFrame"
      ]
     },
     "metadata": {},
     "execution_count": 5
    }
   ],
   "source": [
    "# show the variable type\n",
    "type(dataset)"
   ]
  },
  {
   "cell_type": "markdown",
   "metadata": {},
   "source": [
    "> 👉 Pandas' reading methods give you a lot of control over how a file is read. To keep things simple, I list the most commonly used arguments:\n",
    "\n",
    "```python\n",
    "sep         # Delimiter/separator to use.\n",
    "header      # Row number(s) to use as the column names. By default it takes the first row as the column names (header=0). If there is no columns names in the file you must set header=None\n",
    "skiprows    # Number of lines to skip at the start of the file (an integer).\n",
    "na_filter   # Detect missing value markers. False by default.\n",
    "sheet_name  # Only excel files, the excel sheet name either a number or the full name.\n",
    "```\n",
    "\n",
    "> more details on Pandas csv read method: https://pandas.pydata.org/pandas-docs/stable/reference/api/pandas.read_csv.html\n",
    "\n",
    "The GrainSizeTools script includes a method named ```get_filepath()``` to get the path of a file through a file selection dialog instead of directly writing it. This can be used in two ways:\n",
    "\n",
    "```python\n",
    "# store the path in a variable (here named filepath for convenience) and then use it when calling the read method\n",
    "filepath = get_filepath()\n",
    "dataset = pd.read_csv(filepath, sep='\\t')\n",
    "\n",
    "# use get_filepath() directly within the read method\n",
    "dataset = pd.read_csv(get_filepath(), sep='\\t')\n",
    "```\n",
    "\n",
    "Lastly, Pandas also allows to directly import tabular data from the clipboard (i.e. data copied using copy-paste commands). For example, after copying the table from a text file, excel spreadsheet or a website using: \n",
    "\n",
    "```python\n",
    "dataset = pd.read_clipboard()\n",
    "```\n",
    "\n",
    "---"
   ]
  },
  {
   "cell_type": "markdown",
   "metadata": {},
   "source": [
    "## Basic data manipulation (using Pandas)\n",
    "\n",
    "Let's first see how the data set looks like. Instead of calling the variable (as in the example before) we now use the ``head()`` and ``tail()`` methods so that it only shows us the first (or last) rows of the data set"
   ]
  },
  {
   "cell_type": "code",
   "execution_count": 6,
   "metadata": {},
   "outputs": [
    {
     "output_type": "execute_result",
     "data": {
      "text/plain": [
       "         Area  Circ.    Feret  FeretX  FeretY  FeretAngle  MinFeret     AR  \\\n",
       "0  1   157.25  0.680   18.062  1535.0     0.5     131.634    13.500  1.101   \n",
       "1  2  2059.75  0.771   62.097   753.5    16.5     165.069    46.697  1.314   \n",
       "2  3  1961.50  0.842   57.871   727.0    65.0      71.878    46.923  1.139   \n",
       "3  4  5428.50  0.709  114.657  1494.5    83.5      19.620    63.449  1.896   \n",
       "4  5   374.00  0.699   29.262  2328.0    34.0      33.147    16.000  1.515   \n",
       "\n",
       "   Round  Solidity  \n",
       "0  0.908     0.937  \n",
       "1  0.761     0.972  \n",
       "2  0.878     0.972  \n",
       "3  0.528     0.947  \n",
       "4  0.660     0.970  "
      ],
      "text/html": "<div>\n<style scoped>\n    .dataframe tbody tr th:only-of-type {\n        vertical-align: middle;\n    }\n\n    .dataframe tbody tr th {\n        vertical-align: top;\n    }\n\n    .dataframe thead th {\n        text-align: right;\n    }\n</style>\n<table border=\"1\" class=\"dataframe\">\n  <thead>\n    <tr style=\"text-align: right;\">\n      <th></th>\n      <th></th>\n      <th>Area</th>\n      <th>Circ.</th>\n      <th>Feret</th>\n      <th>FeretX</th>\n      <th>FeretY</th>\n      <th>FeretAngle</th>\n      <th>MinFeret</th>\n      <th>AR</th>\n      <th>Round</th>\n      <th>Solidity</th>\n    </tr>\n  </thead>\n  <tbody>\n    <tr>\n      <th>0</th>\n      <td>1</td>\n      <td>157.25</td>\n      <td>0.680</td>\n      <td>18.062</td>\n      <td>1535.0</td>\n      <td>0.5</td>\n      <td>131.634</td>\n      <td>13.500</td>\n      <td>1.101</td>\n      <td>0.908</td>\n      <td>0.937</td>\n    </tr>\n    <tr>\n      <th>1</th>\n      <td>2</td>\n      <td>2059.75</td>\n      <td>0.771</td>\n      <td>62.097</td>\n      <td>753.5</td>\n      <td>16.5</td>\n      <td>165.069</td>\n      <td>46.697</td>\n      <td>1.314</td>\n      <td>0.761</td>\n      <td>0.972</td>\n    </tr>\n    <tr>\n      <th>2</th>\n      <td>3</td>\n      <td>1961.50</td>\n      <td>0.842</td>\n      <td>57.871</td>\n      <td>727.0</td>\n      <td>65.0</td>\n      <td>71.878</td>\n      <td>46.923</td>\n      <td>1.139</td>\n      <td>0.878</td>\n      <td>0.972</td>\n    </tr>\n    <tr>\n      <th>3</th>\n      <td>4</td>\n      <td>5428.50</td>\n      <td>0.709</td>\n      <td>114.657</td>\n      <td>1494.5</td>\n      <td>83.5</td>\n      <td>19.620</td>\n      <td>63.449</td>\n      <td>1.896</td>\n      <td>0.528</td>\n      <td>0.947</td>\n    </tr>\n    <tr>\n      <th>4</th>\n      <td>5</td>\n      <td>374.00</td>\n      <td>0.699</td>\n      <td>29.262</td>\n      <td>2328.0</td>\n      <td>34.0</td>\n      <td>33.147</td>\n      <td>16.000</td>\n      <td>1.515</td>\n      <td>0.660</td>\n      <td>0.970</td>\n    </tr>\n  </tbody>\n</table>\n</div>"
     },
     "metadata": {},
     "execution_count": 6
    }
   ],
   "source": [
    "dataset.head()  # returns 5 rows by default, you can define any number within the parenthesis"
   ]
  },
  {
   "cell_type": "markdown",
   "metadata": {},
   "source": [
    "The example dataset has 11 different columns (one without a name). To interact with one of the columns we must call its name in square brackets with the name in quotes as follows:"
   ]
  },
  {
   "cell_type": "code",
   "execution_count": 7,
   "metadata": {},
   "outputs": [
    {
     "output_type": "execute_result",
     "data": {
      "text/plain": [
       "0         314.5\n",
       "1        4119.5\n",
       "2        3923.0\n",
       "3       10857.0\n",
       "4         748.0\n",
       "         ...   \n",
       "2656      905.0\n",
       "2657     2162.5\n",
       "2658     1027.0\n",
       "2659      555.5\n",
       "2660     1450.0\n",
       "Name: Area, Length: 2661, dtype: float64"
      ]
     },
     "metadata": {},
     "execution_count": 7
    }
   ],
   "source": [
    "# get the column 'Area' and multiplied by two\n",
    "dataset['Area'] * 2"
   ]
  },
  {
   "cell_type": "markdown",
   "metadata": {},
   "source": [
    "If you want to remove one or more columns, you can do it with the ``drop()`` method. For example, let's remove the column without a name."
   ]
  },
  {
   "cell_type": "code",
   "execution_count": 8,
   "metadata": {},
   "outputs": [
    {
     "output_type": "execute_result",
     "data": {
      "text/plain": [
       "      Area  Circ.   Feret  FeretX  FeretY  FeretAngle  MinFeret     AR  Round  \\\n",
       "0   157.25  0.680  18.062  1535.0     0.5     131.634    13.500  1.101  0.908   \n",
       "1  2059.75  0.771  62.097   753.5    16.5     165.069    46.697  1.314  0.761   \n",
       "2  1961.50  0.842  57.871   727.0    65.0      71.878    46.923  1.139  0.878   \n",
       "\n",
       "   Solidity  \n",
       "0     0.937  \n",
       "1     0.972  \n",
       "2     0.972  "
      ],
      "text/html": "<div>\n<style scoped>\n    .dataframe tbody tr th:only-of-type {\n        vertical-align: middle;\n    }\n\n    .dataframe tbody tr th {\n        vertical-align: top;\n    }\n\n    .dataframe thead th {\n        text-align: right;\n    }\n</style>\n<table border=\"1\" class=\"dataframe\">\n  <thead>\n    <tr style=\"text-align: right;\">\n      <th></th>\n      <th>Area</th>\n      <th>Circ.</th>\n      <th>Feret</th>\n      <th>FeretX</th>\n      <th>FeretY</th>\n      <th>FeretAngle</th>\n      <th>MinFeret</th>\n      <th>AR</th>\n      <th>Round</th>\n      <th>Solidity</th>\n    </tr>\n  </thead>\n  <tbody>\n    <tr>\n      <th>0</th>\n      <td>157.25</td>\n      <td>0.680</td>\n      <td>18.062</td>\n      <td>1535.0</td>\n      <td>0.5</td>\n      <td>131.634</td>\n      <td>13.500</td>\n      <td>1.101</td>\n      <td>0.908</td>\n      <td>0.937</td>\n    </tr>\n    <tr>\n      <th>1</th>\n      <td>2059.75</td>\n      <td>0.771</td>\n      <td>62.097</td>\n      <td>753.5</td>\n      <td>16.5</td>\n      <td>165.069</td>\n      <td>46.697</td>\n      <td>1.314</td>\n      <td>0.761</td>\n      <td>0.972</td>\n    </tr>\n    <tr>\n      <th>2</th>\n      <td>1961.50</td>\n      <td>0.842</td>\n      <td>57.871</td>\n      <td>727.0</td>\n      <td>65.0</td>\n      <td>71.878</td>\n      <td>46.923</td>\n      <td>1.139</td>\n      <td>0.878</td>\n      <td>0.972</td>\n    </tr>\n  </tbody>\n</table>\n</div>"
     },
     "metadata": {},
     "execution_count": 8
    }
   ],
   "source": [
    "# Remove the column without a name from the DataFrame\n",
    "dataset.drop(columns=' ', inplace=True)\n",
    "dataset.head(3)"
   ]
  },
  {
   "cell_type": "code",
   "execution_count": 9,
   "metadata": {},
   "outputs": [
    {
     "output_type": "execute_result",
     "data": {
      "text/plain": [
       "      Area  Circ.   Feret  FeretAngle  MinFeret     AR  Round  Solidity\n",
       "0   157.25  0.680  18.062     131.634    13.500  1.101  0.908     0.937\n",
       "1  2059.75  0.771  62.097     165.069    46.697  1.314  0.761     0.972\n",
       "2  1961.50  0.842  57.871      71.878    46.923  1.139  0.878     0.972"
      ],
      "text/html": "<div>\n<style scoped>\n    .dataframe tbody tr th:only-of-type {\n        vertical-align: middle;\n    }\n\n    .dataframe tbody tr th {\n        vertical-align: top;\n    }\n\n    .dataframe thead th {\n        text-align: right;\n    }\n</style>\n<table border=\"1\" class=\"dataframe\">\n  <thead>\n    <tr style=\"text-align: right;\">\n      <th></th>\n      <th>Area</th>\n      <th>Circ.</th>\n      <th>Feret</th>\n      <th>FeretAngle</th>\n      <th>MinFeret</th>\n      <th>AR</th>\n      <th>Round</th>\n      <th>Solidity</th>\n    </tr>\n  </thead>\n  <tbody>\n    <tr>\n      <th>0</th>\n      <td>157.25</td>\n      <td>0.680</td>\n      <td>18.062</td>\n      <td>131.634</td>\n      <td>13.500</td>\n      <td>1.101</td>\n      <td>0.908</td>\n      <td>0.937</td>\n    </tr>\n    <tr>\n      <th>1</th>\n      <td>2059.75</td>\n      <td>0.771</td>\n      <td>62.097</td>\n      <td>165.069</td>\n      <td>46.697</td>\n      <td>1.314</td>\n      <td>0.761</td>\n      <td>0.972</td>\n    </tr>\n    <tr>\n      <th>2</th>\n      <td>1961.50</td>\n      <td>0.842</td>\n      <td>57.871</td>\n      <td>71.878</td>\n      <td>46.923</td>\n      <td>1.139</td>\n      <td>0.878</td>\n      <td>0.972</td>\n    </tr>\n  </tbody>\n</table>\n</div>"
     },
     "metadata": {},
     "execution_count": 9
    }
   ],
   "source": [
    "# If you want to remove more than one column pass a list of columns\n",
    "dataset.drop(columns=['FeretX', 'FeretY'], inplace=True)\n",
    "dataset.head(3)"
   ]
  },
  {
   "cell_type": "markdown",
   "metadata": {},
   "source": [
    "### Create new columns\n",
    "\n",
    "The example dataset does not contain any column with the grain diameters and therefore we have to estimate them. For example, assuming the data comes from a thin section, you can estimate the apparent diameters from the section areas using the equivalent circular diameter (ECD) formula which is\n",
    "\n",
    "$ECD = 2 \\cdot \\sqrt{areas / \\pi}$\n",
    "\n",
    "we will call the new column ``'diameters'``"
   ]
  },
  {
   "cell_type": "code",
   "execution_count": 10,
   "metadata": {},
   "outputs": [
    {
     "output_type": "execute_result",
     "data": {
      "text/plain": [
       "      Area  Circ.    Feret  FeretAngle  MinFeret     AR  Round  Solidity  \\\n",
       "0   157.25  0.680   18.062     131.634    13.500  1.101  0.908     0.937   \n",
       "1  2059.75  0.771   62.097     165.069    46.697  1.314  0.761     0.972   \n",
       "2  1961.50  0.842   57.871      71.878    46.923  1.139  0.878     0.972   \n",
       "3  5428.50  0.709  114.657      19.620    63.449  1.896  0.528     0.947   \n",
       "4   374.00  0.699   29.262      33.147    16.000  1.515  0.660     0.970   \n",
       "\n",
       "   diameters  \n",
       "0  14.149803  \n",
       "1  51.210889  \n",
       "2  49.974587  \n",
       "3  83.137121  \n",
       "4  21.821815  "
      ],
      "text/html": "<div>\n<style scoped>\n    .dataframe tbody tr th:only-of-type {\n        vertical-align: middle;\n    }\n\n    .dataframe tbody tr th {\n        vertical-align: top;\n    }\n\n    .dataframe thead th {\n        text-align: right;\n    }\n</style>\n<table border=\"1\" class=\"dataframe\">\n  <thead>\n    <tr style=\"text-align: right;\">\n      <th></th>\n      <th>Area</th>\n      <th>Circ.</th>\n      <th>Feret</th>\n      <th>FeretAngle</th>\n      <th>MinFeret</th>\n      <th>AR</th>\n      <th>Round</th>\n      <th>Solidity</th>\n      <th>diameters</th>\n    </tr>\n  </thead>\n  <tbody>\n    <tr>\n      <th>0</th>\n      <td>157.25</td>\n      <td>0.680</td>\n      <td>18.062</td>\n      <td>131.634</td>\n      <td>13.500</td>\n      <td>1.101</td>\n      <td>0.908</td>\n      <td>0.937</td>\n      <td>14.149803</td>\n    </tr>\n    <tr>\n      <th>1</th>\n      <td>2059.75</td>\n      <td>0.771</td>\n      <td>62.097</td>\n      <td>165.069</td>\n      <td>46.697</td>\n      <td>1.314</td>\n      <td>0.761</td>\n      <td>0.972</td>\n      <td>51.210889</td>\n    </tr>\n    <tr>\n      <th>2</th>\n      <td>1961.50</td>\n      <td>0.842</td>\n      <td>57.871</td>\n      <td>71.878</td>\n      <td>46.923</td>\n      <td>1.139</td>\n      <td>0.878</td>\n      <td>0.972</td>\n      <td>49.974587</td>\n    </tr>\n    <tr>\n      <th>3</th>\n      <td>5428.50</td>\n      <td>0.709</td>\n      <td>114.657</td>\n      <td>19.620</td>\n      <td>63.449</td>\n      <td>1.896</td>\n      <td>0.528</td>\n      <td>0.947</td>\n      <td>83.137121</td>\n    </tr>\n    <tr>\n      <th>4</th>\n      <td>374.00</td>\n      <td>0.699</td>\n      <td>29.262</td>\n      <td>33.147</td>\n      <td>16.000</td>\n      <td>1.515</td>\n      <td>0.660</td>\n      <td>0.970</td>\n      <td>21.821815</td>\n    </tr>\n  </tbody>\n</table>\n</div>"
     },
     "metadata": {},
     "execution_count": 10
    }
   ],
   "source": [
    "dataset['diameters'] = 2 * np.sqrt(dataset['Area'] / np.pi)\n",
    "dataset.head()"
   ]
  },
  {
   "cell_type": "markdown",
   "metadata": {},
   "source": [
    "You can see a new column named diameters.\n",
    "\n",
    "> 👉  In the examples above we define the square root as ``np.sqrt``, the arithmetic mean as ``np.mean``, and pi as  ``np.pi``. In this case, ``np.`` stems for NumPy or numerical Python, a core package for scientific computing with Python, and the keyword after the dot is the method or the scientific value to be applied. If you write in the console ``np.`` and then press the TAB key, you will see a large list of available methods. In general, the method names are equivalent to those used in MATLAB or R but always by adding the ``np.`` first.\n",
    "\n",
    "### A list of useful Pandas methods\n",
    "\n",
    "Some things you might want to try (just copy-paste in interactive cells below and explore):\n",
    "\n",
    "```python\n",
    "# Reduction\n",
    "dataset.mean()          # estimate the mean for all columns\n",
    "dataset['Area'].mean()  # estimate the mean only for the column Area\n",
    "dataset.std()           # estimate the (Bessel corrected) standard deviation\n",
    "dataset.median()        # estimate the median\n",
    "dataset.mad()           # estimate the mean absolute deviation\n",
    "dataset.var()           # estimate the unbiased variace\n",
    "dataset.sem()           # estimate the standard error of the mean\n",
    "dataset.skew()          # estimate the sample skewness\n",
    "dataset.kurt()          # estimate the sample kurtosis\n",
    "dataset.quantile()      # estimate the sample quantile\n",
    "\n",
    "# Information\n",
    "dataset.describe()   # generate descriptive statistics\n",
    "dataset.info()       # display info of the DataFrame\n",
    "dataset.shape()      # (rows, columns)\n",
    "dataset.count()      # number of non-null values\n",
    "\n",
    "dataset.dropna()        # remove missing values from the data\n",
    "\n",
    "# writing to disk\n",
    "dataset.to_csv(filename)    # save as csv file, the filename must be within quotes\n",
    "dataset.to_excel(filename)  # save as excel file\n",
    "```"
   ]
  },
  {
   "cell_type": "code",
   "execution_count": 11,
   "metadata": {},
   "outputs": [
    {
     "output_type": "execute_result",
     "data": {
      "text/plain": [
       "Area          1213.823750\n",
       "Circ.            0.730233\n",
       "Feret           44.808749\n",
       "FeretAngle      90.622313\n",
       "MinFeret        31.016330\n",
       "AR               1.451459\n",
       "Round            0.719253\n",
       "Solidity         0.943795\n",
       "diameters       34.785694\n",
       "dtype: float64"
      ]
     },
     "metadata": {},
     "execution_count": 11
    }
   ],
   "source": [
    "# estimate the mean of all columns\n",
    "dataset.mean()"
   ]
  },
  {
   "cell_type": "code",
   "execution_count": 12,
   "metadata": {},
   "outputs": [
    {
     "output_type": "execute_result",
     "data": {
      "text/plain": [
       "               Area        Circ.        Feret   FeretAngle     MinFeret  \\\n",
       "count   2661.000000  2661.000000  2661.000000  2661.000000  2661.000000   \n",
       "mean    1213.823750     0.730233    44.808749    90.622313    31.016330   \n",
       "std     1331.462328     0.069441    21.764062    53.570466    17.079455   \n",
       "min        8.000000     0.377000     4.301000     1.071000     2.500000   \n",
       "25%      346.500000     0.691000    29.108000    41.566000    18.063000   \n",
       "50%      780.750000     0.742000    41.404000    87.274000    28.306000   \n",
       "75%     1589.500000     0.780000    56.447000   141.746000    40.791000   \n",
       "max    19259.750000     0.873000   177.229000   179.576000   146.363000   \n",
       "\n",
       "                AR        Round     Solidity    diameters  \n",
       "count  2661.000000  2661.000000  2661.000000  2661.000000  \n",
       "mean      1.451459     0.719253     0.943795    34.785694  \n",
       "std       0.337358     0.136751     0.027590    18.318569  \n",
       "min       1.004000     0.236000     0.764000     3.191538  \n",
       "25%       1.211000     0.626000     0.932000    21.004226  \n",
       "50%       1.368000     0.731000     0.950000    31.529062  \n",
       "75%       1.597000     0.826000     0.963000    44.986823  \n",
       "max       4.244000     0.996000     0.985000   156.595898  "
      ],
      "text/html": "<div>\n<style scoped>\n    .dataframe tbody tr th:only-of-type {\n        vertical-align: middle;\n    }\n\n    .dataframe tbody tr th {\n        vertical-align: top;\n    }\n\n    .dataframe thead th {\n        text-align: right;\n    }\n</style>\n<table border=\"1\" class=\"dataframe\">\n  <thead>\n    <tr style=\"text-align: right;\">\n      <th></th>\n      <th>Area</th>\n      <th>Circ.</th>\n      <th>Feret</th>\n      <th>FeretAngle</th>\n      <th>MinFeret</th>\n      <th>AR</th>\n      <th>Round</th>\n      <th>Solidity</th>\n      <th>diameters</th>\n    </tr>\n  </thead>\n  <tbody>\n    <tr>\n      <th>count</th>\n      <td>2661.000000</td>\n      <td>2661.000000</td>\n      <td>2661.000000</td>\n      <td>2661.000000</td>\n      <td>2661.000000</td>\n      <td>2661.000000</td>\n      <td>2661.000000</td>\n      <td>2661.000000</td>\n      <td>2661.000000</td>\n    </tr>\n    <tr>\n      <th>mean</th>\n      <td>1213.823750</td>\n      <td>0.730233</td>\n      <td>44.808749</td>\n      <td>90.622313</td>\n      <td>31.016330</td>\n      <td>1.451459</td>\n      <td>0.719253</td>\n      <td>0.943795</td>\n      <td>34.785694</td>\n    </tr>\n    <tr>\n      <th>std</th>\n      <td>1331.462328</td>\n      <td>0.069441</td>\n      <td>21.764062</td>\n      <td>53.570466</td>\n      <td>17.079455</td>\n      <td>0.337358</td>\n      <td>0.136751</td>\n      <td>0.027590</td>\n      <td>18.318569</td>\n    </tr>\n    <tr>\n      <th>min</th>\n      <td>8.000000</td>\n      <td>0.377000</td>\n      <td>4.301000</td>\n      <td>1.071000</td>\n      <td>2.500000</td>\n      <td>1.004000</td>\n      <td>0.236000</td>\n      <td>0.764000</td>\n      <td>3.191538</td>\n    </tr>\n    <tr>\n      <th>25%</th>\n      <td>346.500000</td>\n      <td>0.691000</td>\n      <td>29.108000</td>\n      <td>41.566000</td>\n      <td>18.063000</td>\n      <td>1.211000</td>\n      <td>0.626000</td>\n      <td>0.932000</td>\n      <td>21.004226</td>\n    </tr>\n    <tr>\n      <th>50%</th>\n      <td>780.750000</td>\n      <td>0.742000</td>\n      <td>41.404000</td>\n      <td>87.274000</td>\n      <td>28.306000</td>\n      <td>1.368000</td>\n      <td>0.731000</td>\n      <td>0.950000</td>\n      <td>31.529062</td>\n    </tr>\n    <tr>\n      <th>75%</th>\n      <td>1589.500000</td>\n      <td>0.780000</td>\n      <td>56.447000</td>\n      <td>141.746000</td>\n      <td>40.791000</td>\n      <td>1.597000</td>\n      <td>0.826000</td>\n      <td>0.963000</td>\n      <td>44.986823</td>\n    </tr>\n    <tr>\n      <th>max</th>\n      <td>19259.750000</td>\n      <td>0.873000</td>\n      <td>177.229000</td>\n      <td>179.576000</td>\n      <td>146.363000</td>\n      <td>4.244000</td>\n      <td>0.996000</td>\n      <td>0.985000</td>\n      <td>156.595898</td>\n    </tr>\n  </tbody>\n</table>\n</div>"
     },
     "metadata": {},
     "execution_count": 12
    }
   ],
   "source": [
    "# Generate descriptive statistics\n",
    "dataset.describe()"
   ]
  },
  {
   "cell_type": "code",
   "execution_count": 13,
   "metadata": {},
   "outputs": [
    {
     "output_type": "execute_result",
     "data": {
      "text/plain": [
       "<AxesSubplot:>"
      ]
     },
     "metadata": {},
     "execution_count": 13
    },
    {
     "output_type": "display_data",
     "data": {
      "text/plain": "<Figure size 432x288 with 1 Axes>",
      "image/svg+xml": "<?xml version=\"1.0\" encoding=\"utf-8\" standalone=\"no\"?>\r\n<!DOCTYPE svg PUBLIC \"-//W3C//DTD SVG 1.1//EN\"\r\n  \"http://www.w3.org/Graphics/SVG/1.1/DTD/svg11.dtd\">\r\n<!-- Created with matplotlib (https://matplotlib.org/) -->\r\n<svg height=\"254.65pt\" version=\"1.1\" viewBox=\"0 0 374.9375 254.65\" width=\"374.9375pt\" xmlns=\"http://www.w3.org/2000/svg\" xmlns:xlink=\"http://www.w3.org/1999/xlink\">\r\n <metadata>\r\n  <rdf:RDF xmlns:cc=\"http://creativecommons.org/ns#\" xmlns:dc=\"http://purl.org/dc/elements/1.1/\" xmlns:rdf=\"http://www.w3.org/1999/02/22-rdf-syntax-ns#\">\r\n   <cc:Work>\r\n    <dc:type rdf:resource=\"http://purl.org/dc/dcmitype/StillImage\"/>\r\n    <dc:date>2020-12-31T14:09:49.378057</dc:date>\r\n    <dc:format>image/svg+xml</dc:format>\r\n    <dc:creator>\r\n     <cc:Agent>\r\n      <dc:title>Matplotlib v3.3.2, https://matplotlib.org/</dc:title>\r\n     </cc:Agent>\r\n    </dc:creator>\r\n   </cc:Work>\r\n  </rdf:RDF>\r\n </metadata>\r\n <defs>\r\n  <style type=\"text/css\">*{stroke-linecap:butt;stroke-linejoin:round;}</style>\r\n </defs>\r\n <g id=\"figure_1\">\r\n  <g id=\"patch_1\">\r\n   <path d=\"M 0 254.65 \r\nL 374.9375 254.65 \r\nL 374.9375 0 \r\nL 0 0 \r\nz\r\n\" style=\"fill:#ffffff;\"/>\r\n  </g>\r\n  <g id=\"axes_1\">\r\n   <g id=\"patch_2\">\r\n    <path d=\"M 32.9375 228.96 \r\nL 367.7375 228.96 \r\nL 367.7375 7.2 \r\nL 32.9375 7.2 \r\nz\r\n\" style=\"fill:#ffffff;\"/>\r\n   </g>\r\n   <g id=\"matplotlib.axis_1\">\r\n    <g id=\"xtick_1\">\r\n     <g id=\"line2d_1\">\r\n      <path clip-path=\"url(#p405cc83323)\" d=\"M 88.7375 228.96 \r\nL 88.7375 7.2 \r\n\" style=\"fill:none;stroke:#cbcbcb;\"/>\r\n     </g>\r\n     <g id=\"line2d_2\"/>\r\n     <g id=\"text_1\">\r\n      <!-- Circ. -->\r\n      <g style=\"fill:#252525;\" transform=\"translate(72.00125 243.885)scale(0.16 -0.16)\">\r\n       <defs>\r\n        <path d=\"M 58 49.90625 \r\nL 67.5 49.90625 \r\nQ 66.703125 55.59375 64.09375 59.9375 \r\nQ 61.5 64.296875 57.59375 67.1875 \r\nQ 53.703125 70.09375 48.703125 71.59375 \r\nQ 43.703125 73.09375 38.09375 73.09375 \r\nQ 29.90625 73.09375 23.546875 70.140625 \r\nQ 17.203125 67.203125 12.953125 62.09375 \r\nQ 8.703125 57 6.5 50.140625 \r\nQ 4.296875 43.296875 4.296875 35.5 \r\nQ 4.296875 27.703125 6.34375 20.890625 \r\nQ 8.40625 14.09375 12.5 9.09375 \r\nQ 16.59375 4.09375 22.796875 1.25 \r\nQ 29 -1.59375 37.296875 -1.59375 \r\nQ 51 -1.59375 58.890625 5.90625 \r\nQ 66.796875 13.40625 68.203125 26.90625 \r\nL 58.703125 26.90625 \r\nQ 58.40625 22.5 56.90625 18.703125 \r\nQ 55.40625 14.90625 52.75 12.15625 \r\nQ 50.09375 9.40625 46.4375 7.84375 \r\nQ 42.796875 6.296875 38.09375 6.296875 \r\nQ 31.703125 6.296875 27.09375 8.6875 \r\nQ 22.5 11.09375 19.546875 15.140625 \r\nQ 16.59375 19.203125 15.1875 24.640625 \r\nQ 13.796875 30.09375 13.796875 36.203125 \r\nQ 13.796875 41.796875 15.1875 47 \r\nQ 16.59375 52.203125 19.546875 56.25 \r\nQ 22.5 60.296875 27.046875 62.6875 \r\nQ 31.59375 65.09375 38 65.09375 \r\nQ 45.5 65.09375 50.953125 61.296875 \r\nQ 56.40625 57.5 58 49.90625 \r\nz\r\n\" id=\"HelveticaNeue-67\"/>\r\n        <path d=\"M 15.40625 61 \r\nL 15.40625 71.40625 \r\nL 6.90625 71.40625 \r\nL 6.90625 61 \r\nz\r\nM 6.90625 51.703125 \r\nL 6.90625 0 \r\nL 15.40625 0 \r\nL 15.40625 51.703125 \r\nz\r\n\" id=\"HelveticaNeue-105\"/>\r\n        <path d=\"M 6.09375 51.703125 \r\nL 6.09375 0 \r\nL 14.59375 0 \r\nL 14.59375 23 \r\nQ 14.59375 28 15.59375 31.84375 \r\nQ 16.59375 35.703125 18.796875 38.390625 \r\nQ 21 41.09375 24.59375 42.5 \r\nQ 28.203125 43.90625 33.296875 43.90625 \r\nL 33.296875 52.90625 \r\nQ 26.40625 53.09375 21.90625 50.09375 \r\nQ 17.40625 47.09375 14.296875 40.796875 \r\nL 14.09375 40.796875 \r\nL 14.09375 51.703125 \r\nz\r\n\" id=\"HelveticaNeue-114\"/>\r\n        <path d=\"M 41.5 35.09375 \r\nL 50.296875 35.09375 \r\nQ 49.796875 39.703125 47.890625 43.046875 \r\nQ 46 46.40625 43.046875 48.59375 \r\nQ 40.09375 50.796875 36.25 51.84375 \r\nQ 32.40625 52.90625 28 52.90625 \r\nQ 21.90625 52.90625 17.296875 50.75 \r\nQ 12.703125 48.59375 9.640625 44.84375 \r\nQ 6.59375 41.09375 5.09375 36.046875 \r\nQ 3.59375 31 3.59375 25.203125 \r\nQ 3.59375 19.40625 5.140625 14.546875 \r\nQ 6.703125 9.703125 9.75 6.203125 \r\nQ 12.796875 2.703125 17.34375 0.796875 \r\nQ 21.90625 -1.09375 27.796875 -1.09375 \r\nQ 37.703125 -1.09375 43.453125 4.09375 \r\nQ 49.203125 9.296875 50.59375 18.90625 \r\nL 41.90625 18.90625 \r\nQ 41.09375 12.90625 37.546875 9.59375 \r\nQ 34 6.296875 27.703125 6.296875 \r\nQ 23.703125 6.296875 20.796875 7.890625 \r\nQ 17.90625 9.5 16.09375 12.140625 \r\nQ 14.296875 14.796875 13.4375 18.1875 \r\nQ 12.59375 21.59375 12.59375 25.203125 \r\nQ 12.59375 29.09375 13.390625 32.75 \r\nQ 14.203125 36.40625 16.046875 39.203125 \r\nQ 17.90625 42 21 43.703125 \r\nQ 24.09375 45.40625 28.703125 45.40625 \r\nQ 34.09375 45.40625 37.296875 42.703125 \r\nQ 40.5 40 41.5 35.09375 \r\nz\r\n\" id=\"HelveticaNeue-99\"/>\r\n        <path d=\"M 8.296875 11.09375 \r\nL 8.296875 0 \r\nL 19.40625 0 \r\nL 19.40625 11.09375 \r\nz\r\n\" id=\"HelveticaNeue-46\"/>\r\n       </defs>\r\n       <use xlink:href=\"#HelveticaNeue-67\"/>\r\n       <use x=\"72.199982\" xlink:href=\"#HelveticaNeue-105\"/>\r\n       <use x=\"94.399979\" xlink:href=\"#HelveticaNeue-114\"/>\r\n       <use x=\"127.699966\" xlink:href=\"#HelveticaNeue-99\"/>\r\n       <use x=\"181.399963\" xlink:href=\"#HelveticaNeue-46\"/>\r\n      </g>\r\n     </g>\r\n    </g>\r\n    <g id=\"xtick_2\">\r\n     <g id=\"line2d_3\">\r\n      <path clip-path=\"url(#p405cc83323)\" d=\"M 200.3375 228.96 \r\nL 200.3375 7.2 \r\n\" style=\"fill:none;stroke:#cbcbcb;\"/>\r\n     </g>\r\n     <g id=\"line2d_4\"/>\r\n     <g id=\"text_2\">\r\n      <!-- Round -->\r\n      <g style=\"fill:#252525;\" transform=\"translate(176.62625 243.885)scale(0.16 -0.16)\">\r\n       <defs>\r\n        <path d=\"M 7.796875 71.40625 \r\nL 7.796875 0 \r\nL 17.296875 0 \r\nL 17.296875 30.5 \r\nL 40.5 30.5 \r\nQ 44 30.5 46.09375 29.453125 \r\nQ 48.203125 28.40625 49.5 26.65625 \r\nQ 50.796875 24.90625 51.390625 22.546875 \r\nQ 52 20.203125 52.40625 17.59375 \r\nQ 52.90625 15 53 12.296875 \r\nQ 53.09375 9.59375 53.1875 7.25 \r\nQ 53.296875 4.90625 53.640625 3 \r\nQ 54 1.09375 55 0 \r\nL 65.59375 0 \r\nQ 64.09375 1.796875 63.34375 4.140625 \r\nQ 62.59375 6.5 62.1875 9.09375 \r\nQ 61.796875 11.703125 61.6875 14.390625 \r\nQ 61.59375 17.09375 61.40625 19.703125 \r\nQ 61.09375 22.296875 60.546875 24.6875 \r\nQ 60 27.09375 58.84375 29.046875 \r\nQ 57.703125 31 55.75 32.390625 \r\nQ 53.796875 33.796875 50.703125 34.40625 \r\nL 50.703125 34.59375 \r\nQ 57.203125 36.40625 60.140625 41.296875 \r\nQ 63.09375 46.203125 63.09375 52.703125 \r\nQ 63.09375 61.40625 57.34375 66.40625 \r\nQ 51.59375 71.40625 41.40625 71.40625 \r\nz\r\nM 37.09375 38.5 \r\nL 17.296875 38.5 \r\nL 17.296875 63.40625 \r\nL 40.90625 63.40625 \r\nQ 47.59375 63.40625 50.59375 60 \r\nQ 53.59375 56.59375 53.59375 51.203125 \r\nQ 53.59375 47.296875 52.25 44.84375 \r\nQ 50.90625 42.40625 48.65625 40.953125 \r\nQ 46.40625 39.5 43.40625 39 \r\nQ 40.40625 38.5 37.09375 38.5 \r\nz\r\n\" id=\"HelveticaNeue-82\"/>\r\n        <path d=\"M 12.59375 25.796875 \r\nQ 12.59375 30.5 13.84375 34.140625 \r\nQ 15.09375 37.796875 17.296875 40.296875 \r\nQ 19.5 42.796875 22.453125 44.09375 \r\nQ 25.40625 45.40625 28.703125 45.40625 \r\nQ 32 45.40625 34.953125 44.09375 \r\nQ 37.90625 42.796875 40.09375 40.296875 \r\nQ 42.296875 37.796875 43.546875 34.140625 \r\nQ 44.796875 30.5 44.796875 25.796875 \r\nQ 44.796875 21.09375 43.546875 17.4375 \r\nQ 42.296875 13.796875 40.09375 11.34375 \r\nQ 37.90625 8.90625 34.953125 7.59375 \r\nQ 32 6.296875 28.703125 6.296875 \r\nQ 25.40625 6.296875 22.453125 7.59375 \r\nQ 19.5 8.90625 17.296875 11.34375 \r\nQ 15.09375 13.796875 13.84375 17.4375 \r\nQ 12.59375 21.09375 12.59375 25.796875 \r\nz\r\nM 3.59375 25.796875 \r\nQ 3.59375 20.09375 5.1875 15.1875 \r\nQ 6.796875 10.296875 10 6.640625 \r\nQ 13.203125 3 17.890625 0.953125 \r\nQ 22.59375 -1.09375 28.703125 -1.09375 \r\nQ 34.90625 -1.09375 39.546875 0.953125 \r\nQ 44.203125 3 47.390625 6.640625 \r\nQ 50.59375 10.296875 52.1875 15.1875 \r\nQ 53.796875 20.09375 53.796875 25.796875 \r\nQ 53.796875 31.5 52.1875 36.453125 \r\nQ 50.59375 41.40625 47.390625 45.046875 \r\nQ 44.203125 48.703125 39.546875 50.796875 \r\nQ 34.90625 52.90625 28.703125 52.90625 \r\nQ 22.59375 52.90625 17.890625 50.796875 \r\nQ 13.203125 48.703125 10 45.046875 \r\nQ 6.796875 41.40625 5.1875 36.453125 \r\nQ 3.59375 31.5 3.59375 25.796875 \r\nz\r\n\" id=\"HelveticaNeue-111\"/>\r\n        <path d=\"M 49.203125 0 \r\nL 49.203125 51.703125 \r\nL 40.703125 51.703125 \r\nL 40.703125 22.5 \r\nQ 40.703125 19 39.75 16.046875 \r\nQ 38.796875 13.09375 36.890625 10.890625 \r\nQ 35 8.703125 32.140625 7.5 \r\nQ 29.296875 6.296875 25.40625 6.296875 \r\nQ 20.5 6.296875 17.703125 9.09375 \r\nQ 14.90625 11.90625 14.90625 16.703125 \r\nL 14.90625 51.703125 \r\nL 6.40625 51.703125 \r\nL 6.40625 17.703125 \r\nQ 6.40625 13.5 7.25 10.046875 \r\nQ 8.09375 6.59375 10.1875 4.09375 \r\nQ 12.296875 1.59375 15.6875 0.25 \r\nQ 19.09375 -1.09375 24.203125 -1.09375 \r\nQ 29.90625 -1.09375 34.09375 1.15625 \r\nQ 38.296875 3.40625 41 8.203125 \r\nL 41.203125 8.203125 \r\nL 41.203125 0 \r\nz\r\n\" id=\"HelveticaNeue-117\"/>\r\n        <path d=\"M 6.40625 51.703125 \r\nL 6.40625 0 \r\nL 14.90625 0 \r\nL 14.90625 29.203125 \r\nQ 14.90625 32.703125 15.84375 35.640625 \r\nQ 16.796875 38.59375 18.6875 40.796875 \r\nQ 20.59375 43 23.4375 44.203125 \r\nQ 26.296875 45.40625 30.203125 45.40625 \r\nQ 35.09375 45.40625 37.890625 42.59375 \r\nQ 40.703125 39.796875 40.703125 35 \r\nL 40.703125 0 \r\nL 49.203125 0 \r\nL 49.203125 34 \r\nQ 49.203125 38.203125 48.34375 41.640625 \r\nQ 47.5 45.09375 45.390625 47.59375 \r\nQ 43.296875 50.09375 39.890625 51.5 \r\nQ 36.5 52.90625 31.40625 52.90625 \r\nQ 19.90625 52.90625 14.59375 43.5 \r\nL 14.40625 43.5 \r\nL 14.40625 51.703125 \r\nz\r\n\" id=\"HelveticaNeue-110\"/>\r\n        <path d=\"M 12.59375 25.40625 \r\nQ 12.59375 29.203125 13.390625 32.796875 \r\nQ 14.203125 36.40625 16 39.203125 \r\nQ 17.796875 42 20.796875 43.703125 \r\nQ 23.796875 45.40625 28.09375 45.40625 \r\nQ 32.5 45.40625 35.59375 43.75 \r\nQ 38.703125 42.09375 40.640625 39.390625 \r\nQ 42.59375 36.703125 43.5 33.140625 \r\nQ 44.40625 29.59375 44.40625 25.796875 \r\nQ 44.40625 22.203125 43.546875 18.703125 \r\nQ 42.703125 15.203125 40.796875 12.453125 \r\nQ 38.90625 9.703125 35.90625 8 \r\nQ 32.90625 6.296875 28.59375 6.296875 \r\nQ 24.5 6.296875 21.453125 7.890625 \r\nQ 18.40625 9.5 16.453125 12.203125 \r\nQ 14.5 14.90625 13.546875 18.34375 \r\nQ 12.59375 21.796875 12.59375 25.40625 \r\nz\r\nM 52.59375 0 \r\nL 52.59375 71.40625 \r\nL 44.09375 71.40625 \r\nL 44.09375 44.796875 \r\nL 43.90625 44.796875 \r\nQ 42.5 47.09375 40.453125 48.640625 \r\nQ 38.40625 50.203125 36.09375 51.140625 \r\nQ 33.796875 52.09375 31.5 52.5 \r\nQ 29.203125 52.90625 27.203125 52.90625 \r\nQ 21.296875 52.90625 16.84375 50.75 \r\nQ 12.40625 48.59375 9.453125 44.9375 \r\nQ 6.5 41.296875 5.046875 36.390625 \r\nQ 3.59375 31.5 3.59375 26 \r\nQ 3.59375 20.5 5.09375 15.59375 \r\nQ 6.59375 10.703125 9.546875 7 \r\nQ 12.5 3.296875 16.953125 1.09375 \r\nQ 21.40625 -1.09375 27.40625 -1.09375 \r\nQ 32.796875 -1.09375 37.296875 0.796875 \r\nQ 41.796875 2.703125 43.90625 7 \r\nL 44.09375 7 \r\nL 44.09375 0 \r\nz\r\n\" id=\"HelveticaNeue-100\"/>\r\n       </defs>\r\n       <use xlink:href=\"#HelveticaNeue-82\"/>\r\n       <use x=\"68.499985\" xlink:href=\"#HelveticaNeue-111\"/>\r\n       <use x=\"125.899979\" xlink:href=\"#HelveticaNeue-117\"/>\r\n       <use x=\"181.499969\" xlink:href=\"#HelveticaNeue-110\"/>\r\n       <use x=\"237.09996\" xlink:href=\"#HelveticaNeue-100\"/>\r\n      </g>\r\n     </g>\r\n    </g>\r\n    <g id=\"xtick_3\">\r\n     <g id=\"line2d_5\">\r\n      <path clip-path=\"url(#p405cc83323)\" d=\"M 311.9375 228.96 \r\nL 311.9375 7.2 \r\n\" style=\"fill:none;stroke:#cbcbcb;\"/>\r\n     </g>\r\n     <g id=\"line2d_6\"/>\r\n     <g id=\"text_3\">\r\n      <!-- Solidity -->\r\n      <g style=\"fill:#252525;\" transform=\"translate(285.56875 244.155)scale(0.16 -0.16)\">\r\n       <defs>\r\n        <path d=\"M 49.09375 50.5 \r\nL 58.09375 50.5 \r\nQ 57.90625 56.40625 55.84375 60.65625 \r\nQ 53.796875 64.90625 50.25 67.703125 \r\nQ 46.703125 70.5 42 71.796875 \r\nQ 37.296875 73.09375 31.796875 73.09375 \r\nQ 26.90625 73.09375 22.25 71.84375 \r\nQ 17.59375 70.59375 13.9375 68.046875 \r\nQ 10.296875 65.5 8.09375 61.546875 \r\nQ 5.90625 57.59375 5.90625 52.203125 \r\nQ 5.90625 47.296875 7.84375 44.046875 \r\nQ 9.796875 40.796875 13.046875 38.75 \r\nQ 16.296875 36.703125 20.390625 35.453125 \r\nQ 24.5 34.203125 28.75 33.25 \r\nQ 33 32.296875 37.09375 31.390625 \r\nQ 41.203125 30.5 44.453125 29.046875 \r\nQ 47.703125 27.59375 49.640625 25.296875 \r\nQ 51.59375 23 51.59375 19.296875 \r\nQ 51.59375 15.40625 50 12.90625 \r\nQ 48.40625 10.40625 45.796875 8.953125 \r\nQ 43.203125 7.5 39.953125 6.890625 \r\nQ 36.703125 6.296875 33.5 6.296875 \r\nQ 29.5 6.296875 25.703125 7.296875 \r\nQ 21.90625 8.296875 19.046875 10.390625 \r\nQ 16.203125 12.5 14.453125 15.75 \r\nQ 12.703125 19 12.703125 23.5 \r\nL 3.703125 23.5 \r\nQ 3.703125 17 6.046875 12.25 \r\nQ 8.40625 7.5 12.453125 4.453125 \r\nQ 16.5 1.40625 21.84375 -0.09375 \r\nQ 27.203125 -1.59375 33.203125 -1.59375 \r\nQ 38.09375 -1.59375 43.046875 -0.4375 \r\nQ 48 0.703125 52 3.25 \r\nQ 56 5.796875 58.546875 9.84375 \r\nQ 61.09375 13.90625 61.09375 19.59375 \r\nQ 61.09375 24.90625 59.140625 28.40625 \r\nQ 57.203125 31.90625 53.953125 34.203125 \r\nQ 50.703125 36.5 46.59375 37.84375 \r\nQ 42.5 39.203125 38.25 40.203125 \r\nQ 34 41.203125 29.890625 42.046875 \r\nQ 25.796875 42.90625 22.546875 44.203125 \r\nQ 19.296875 45.5 17.34375 47.546875 \r\nQ 15.40625 49.59375 15.40625 52.90625 \r\nQ 15.40625 56.40625 16.75 58.75 \r\nQ 18.09375 61.09375 20.34375 62.5 \r\nQ 22.59375 63.90625 25.5 64.5 \r\nQ 28.40625 65.09375 31.40625 65.09375 \r\nQ 38.796875 65.09375 43.546875 61.640625 \r\nQ 48.296875 58.203125 49.09375 50.5 \r\nz\r\n\" id=\"HelveticaNeue-83\"/>\r\n        <path d=\"M 6.90625 71.40625 \r\nL 6.90625 0 \r\nL 15.40625 0 \r\nL 15.40625 71.40625 \r\nz\r\n\" id=\"HelveticaNeue-108\"/>\r\n        <path d=\"M 18.203125 51.703125 \r\nL 18.203125 67.203125 \r\nL 9.703125 67.203125 \r\nL 9.703125 51.703125 \r\nL 0.90625 51.703125 \r\nL 0.90625 44.203125 \r\nL 9.703125 44.203125 \r\nL 9.703125 11.296875 \r\nQ 9.703125 7.703125 10.390625 5.5 \r\nQ 11.09375 3.296875 12.546875 2.09375 \r\nQ 14 0.90625 16.34375 0.453125 \r\nQ 18.703125 0 22 0 \r\nL 28.5 0 \r\nL 28.5 7.5 \r\nL 24.59375 7.5 \r\nQ 22.59375 7.5 21.34375 7.640625 \r\nQ 20.09375 7.796875 19.390625 8.296875 \r\nQ 18.703125 8.796875 18.453125 9.6875 \r\nQ 18.203125 10.59375 18.203125 12.09375 \r\nL 18.203125 44.203125 \r\nL 28.5 44.203125 \r\nL 28.5 51.703125 \r\nz\r\n\" id=\"HelveticaNeue-116\"/>\r\n        <path d=\"M 26.703125 -6.796875 \r\nL 49.203125 51.703125 \r\nL 40.203125 51.703125 \r\nL 25.703125 9.40625 \r\nL 25.5 9.40625 \r\nL 10.40625 51.703125 \r\nL 0.796875 51.703125 \r\nL 21.296875 0.296875 \r\nL 17.796875 -8.40625 \r\nQ 16.59375 -10.703125 15 -11.890625 \r\nQ 13.40625 -13.09375 10.796875 -13.09375 \r\nQ 9.5 -13.09375 8.25 -12.6875 \r\nQ 7 -12.296875 5.796875 -11.90625 \r\nL 5.796875 -19.703125 \r\nQ 7.203125 -20.203125 8.703125 -20.390625 \r\nQ 10.203125 -20.59375 11.703125 -20.59375 \r\nQ 14.59375 -20.59375 16.6875 -19.84375 \r\nQ 18.796875 -19.09375 20.546875 -17.4375 \r\nQ 22.296875 -15.796875 23.75 -13.1875 \r\nQ 25.203125 -10.59375 26.703125 -6.796875 \r\nz\r\n\" id=\"HelveticaNeue-121\"/>\r\n       </defs>\r\n       <use xlink:href=\"#HelveticaNeue-83\"/>\r\n       <use x=\"64.799988\" xlink:href=\"#HelveticaNeue-111\"/>\r\n       <use x=\"122.199982\" xlink:href=\"#HelveticaNeue-108\"/>\r\n       <use x=\"144.399979\" xlink:href=\"#HelveticaNeue-105\"/>\r\n       <use x=\"166.599976\" xlink:href=\"#HelveticaNeue-100\"/>\r\n       <use x=\"225.899963\" xlink:href=\"#HelveticaNeue-105\"/>\r\n       <use x=\"248.09996\" xlink:href=\"#HelveticaNeue-116\"/>\r\n       <use x=\"279.599945\" xlink:href=\"#HelveticaNeue-121\"/>\r\n      </g>\r\n     </g>\r\n    </g>\r\n   </g>\r\n   <g id=\"matplotlib.axis_2\">\r\n    <g id=\"ytick_1\">\r\n     <g id=\"line2d_7\">\r\n      <path clip-path=\"url(#p405cc83323)\" d=\"M 32.9375 228.429474 \r\nL 367.7375 228.429474 \r\n\" style=\"fill:none;stroke:#cbcbcb;\"/>\r\n     </g>\r\n     <g id=\"line2d_8\"/>\r\n     <g id=\"text_4\">\r\n      <!-- 0.2 -->\r\n      <g style=\"fill:#252525;\" transform=\"translate(7.2 234.141974)scale(0.16 -0.16)\">\r\n       <defs>\r\n        <path d=\"M 13.203125 34.90625 \r\nQ 13.203125 37.5 13.25 40.640625 \r\nQ 13.296875 43.796875 13.75 46.9375 \r\nQ 14.203125 50.09375 15.046875 53.09375 \r\nQ 15.90625 56.09375 17.546875 58.34375 \r\nQ 19.203125 60.59375 21.703125 62 \r\nQ 24.203125 63.40625 27.796875 63.40625 \r\nQ 31.40625 63.40625 33.90625 62 \r\nQ 36.40625 60.59375 38.046875 58.34375 \r\nQ 39.703125 56.09375 40.546875 53.09375 \r\nQ 41.40625 50.09375 41.84375 46.9375 \r\nQ 42.296875 43.796875 42.34375 40.640625 \r\nQ 42.40625 37.5 42.40625 34.90625 \r\nQ 42.40625 30.90625 42.15625 25.953125 \r\nQ 41.90625 21 40.546875 16.640625 \r\nQ 39.203125 12.296875 36.203125 9.296875 \r\nQ 33.203125 6.296875 27.796875 6.296875 \r\nQ 22.40625 6.296875 19.40625 9.296875 \r\nQ 16.40625 12.296875 15.046875 16.640625 \r\nQ 13.703125 21 13.453125 25.953125 \r\nQ 13.203125 30.90625 13.203125 34.90625 \r\nz\r\nM 4.203125 34.796875 \r\nQ 4.203125 30.90625 4.390625 26.703125 \r\nQ 4.59375 22.5 5.390625 18.5 \r\nQ 6.203125 14.5 7.703125 10.953125 \r\nQ 9.203125 7.40625 11.796875 4.703125 \r\nQ 14.40625 2 18.34375 0.453125 \r\nQ 22.296875 -1.09375 27.796875 -1.09375 \r\nQ 33.40625 -1.09375 37.296875 0.453125 \r\nQ 41.203125 2 43.796875 4.703125 \r\nQ 46.40625 7.40625 47.90625 10.953125 \r\nQ 49.40625 14.5 50.203125 18.5 \r\nQ 51 22.5 51.203125 26.703125 \r\nQ 51.40625 30.90625 51.40625 34.796875 \r\nQ 51.40625 38.703125 51.203125 42.890625 \r\nQ 51 47.09375 50.203125 51.09375 \r\nQ 49.40625 55.09375 47.90625 58.6875 \r\nQ 46.40625 62.296875 43.796875 65 \r\nQ 41.203125 67.703125 37.25 69.296875 \r\nQ 33.296875 70.90625 27.796875 70.90625 \r\nQ 22.296875 70.90625 18.34375 69.296875 \r\nQ 14.40625 67.703125 11.796875 65 \r\nQ 9.203125 62.296875 7.703125 58.6875 \r\nQ 6.203125 55.09375 5.390625 51.09375 \r\nQ 4.59375 47.09375 4.390625 42.890625 \r\nQ 4.203125 38.703125 4.203125 34.796875 \r\nz\r\n\" id=\"HelveticaNeue-48\"/>\r\n        <path d=\"M 4.40625 45.796875 \r\nL 12.90625 45.796875 \r\nQ 12.796875 49 13.546875 52.140625 \r\nQ 14.296875 55.296875 16 57.796875 \r\nQ 17.703125 60.296875 20.34375 61.84375 \r\nQ 23 63.40625 26.703125 63.40625 \r\nQ 29.5 63.40625 32 62.5 \r\nQ 34.5 61.59375 36.34375 59.890625 \r\nQ 38.203125 58.203125 39.296875 55.84375 \r\nQ 40.40625 53.5 40.40625 50.59375 \r\nQ 40.40625 46.90625 39.25 44.09375 \r\nQ 38.09375 41.296875 35.84375 38.890625 \r\nQ 33.59375 36.5 30.1875 34.140625 \r\nQ 26.796875 31.796875 22.296875 29 \r\nQ 18.59375 26.796875 15.1875 24.296875 \r\nQ 11.796875 21.796875 9.09375 18.5 \r\nQ 6.40625 15.203125 4.65625 10.75 \r\nQ 2.90625 6.296875 2.40625 0 \r\nL 48.703125 0 \r\nL 48.703125 7.5 \r\nL 12.296875 7.5 \r\nQ 12.90625 10.796875 14.84375 13.34375 \r\nQ 16.796875 15.90625 19.546875 18.09375 \r\nQ 22.296875 20.296875 25.59375 22.25 \r\nQ 28.90625 24.203125 32.203125 26.203125 \r\nQ 35.5 28.296875 38.59375 30.59375 \r\nQ 41.703125 32.90625 44.09375 35.75 \r\nQ 46.5 38.59375 47.953125 42.1875 \r\nQ 49.40625 45.796875 49.40625 50.5 \r\nQ 49.40625 55.5 47.65625 59.296875 \r\nQ 45.90625 63.09375 42.90625 65.640625 \r\nQ 39.90625 68.203125 35.84375 69.546875 \r\nQ 31.796875 70.90625 27.203125 70.90625 \r\nQ 21.59375 70.90625 17.1875 69 \r\nQ 12.796875 67.09375 9.84375 63.75 \r\nQ 6.90625 60.40625 5.5 55.796875 \r\nQ 4.09375 51.203125 4.40625 45.796875 \r\nz\r\n\" id=\"HelveticaNeue-50\"/>\r\n       </defs>\r\n       <use xlink:href=\"#HelveticaNeue-48\"/>\r\n       <use x=\"55.599991\" xlink:href=\"#HelveticaNeue-46\"/>\r\n       <use x=\"83.399979\" xlink:href=\"#HelveticaNeue-50\"/>\r\n      </g>\r\n     </g>\r\n    </g>\r\n    <g id=\"ytick_2\">\r\n     <g id=\"line2d_9\">\r\n      <path clip-path=\"url(#p405cc83323)\" d=\"M 32.9375 175.376842 \r\nL 367.7375 175.376842 \r\n\" style=\"fill:none;stroke:#cbcbcb;\"/>\r\n     </g>\r\n     <g id=\"line2d_10\"/>\r\n     <g id=\"text_5\">\r\n      <!-- 0.4 -->\r\n      <g style=\"fill:#252525;\" transform=\"translate(7.2 181.089342)scale(0.16 -0.16)\">\r\n       <defs>\r\n        <path d=\"M 33.90625 24.09375 \r\nL 10.09375 24.09375 \r\nL 33.703125 58.796875 \r\nL 33.90625 58.796875 \r\nz\r\nM 41.90625 24.09375 \r\nL 41.90625 70.90625 \r\nL 35.09375 70.90625 \r\nL 2.796875 24.796875 \r\nL 2.796875 16.59375 \r\nL 33.90625 16.59375 \r\nL 33.90625 0 \r\nL 41.90625 0 \r\nL 41.90625 16.59375 \r\nL 51.5 16.59375 \r\nL 51.5 24.09375 \r\nz\r\n\" id=\"HelveticaNeue-52\"/>\r\n       </defs>\r\n       <use xlink:href=\"#HelveticaNeue-48\"/>\r\n       <use x=\"55.599991\" xlink:href=\"#HelveticaNeue-46\"/>\r\n       <use x=\"83.399979\" xlink:href=\"#HelveticaNeue-52\"/>\r\n      </g>\r\n     </g>\r\n    </g>\r\n    <g id=\"ytick_3\">\r\n     <g id=\"line2d_11\">\r\n      <path clip-path=\"url(#p405cc83323)\" d=\"M 32.9375 122.324211 \r\nL 367.7375 122.324211 \r\n\" style=\"fill:none;stroke:#cbcbcb;\"/>\r\n     </g>\r\n     <g id=\"line2d_12\"/>\r\n     <g id=\"text_6\">\r\n      <!-- 0.6 -->\r\n      <g style=\"fill:#252525;\" transform=\"translate(7.2 128.036711)scale(0.16 -0.16)\">\r\n       <defs>\r\n        <path d=\"M 41.40625 52.796875 \r\nL 49.90625 52.796875 \r\nQ 49.09375 61.59375 43.890625 66.25 \r\nQ 38.703125 70.90625 29.90625 70.90625 \r\nQ 22.296875 70.90625 17.296875 67.703125 \r\nQ 12.296875 64.5 9.296875 59.203125 \r\nQ 6.296875 53.90625 5.046875 47.046875 \r\nQ 3.796875 40.203125 3.796875 32.90625 \r\nQ 3.796875 27.296875 4.640625 21.296875 \r\nQ 5.5 15.296875 8.09375 10.296875 \r\nQ 10.703125 5.296875 15.5 2.09375 \r\nQ 20.296875 -1.09375 28.203125 -1.09375 \r\nQ 34.90625 -1.09375 39.453125 1.15625 \r\nQ 44 3.40625 46.75 6.84375 \r\nQ 49.5 10.296875 50.703125 14.5 \r\nQ 51.90625 18.703125 51.90625 22.59375 \r\nQ 51.90625 27.5 50.40625 31.703125 \r\nQ 48.90625 35.90625 46.15625 39 \r\nQ 43.40625 42.09375 39.34375 43.84375 \r\nQ 35.296875 45.59375 30.203125 45.59375 \r\nQ 24.40625 45.59375 19.953125 43.390625 \r\nQ 15.5 41.203125 12.5 36.296875 \r\nL 12.296875 36.5 \r\nQ 12.40625 40.59375 13.09375 45.296875 \r\nQ 13.796875 50 15.640625 54.046875 \r\nQ 17.5 58.09375 20.796875 60.75 \r\nQ 24.09375 63.40625 29.5 63.40625 \r\nQ 34.59375 63.40625 37.6875 60.5 \r\nQ 40.796875 57.59375 41.40625 52.796875 \r\nz\r\nM 28.59375 38.09375 \r\nQ 32.203125 38.09375 34.890625 36.796875 \r\nQ 37.59375 35.5 39.390625 33.34375 \r\nQ 41.203125 31.203125 42.046875 28.25 \r\nQ 42.90625 25.296875 42.90625 22 \r\nQ 42.90625 18.90625 41.953125 16.046875 \r\nQ 41 13.203125 39.203125 11 \r\nQ 37.40625 8.796875 34.75 7.546875 \r\nQ 32.09375 6.296875 28.59375 6.296875 \r\nQ 25.09375 6.296875 22.34375 7.546875 \r\nQ 19.59375 8.796875 17.75 10.890625 \r\nQ 15.90625 13 14.90625 15.890625 \r\nQ 13.90625 18.796875 13.90625 22.09375 \r\nQ 13.90625 25.40625 14.84375 28.34375 \r\nQ 15.796875 31.296875 17.6875 33.4375 \r\nQ 19.59375 35.59375 22.296875 36.84375 \r\nQ 25 38.09375 28.59375 38.09375 \r\nz\r\n\" id=\"HelveticaNeue-54\"/>\r\n       </defs>\r\n       <use xlink:href=\"#HelveticaNeue-48\"/>\r\n       <use x=\"55.599991\" xlink:href=\"#HelveticaNeue-46\"/>\r\n       <use x=\"83.399979\" xlink:href=\"#HelveticaNeue-54\"/>\r\n      </g>\r\n     </g>\r\n    </g>\r\n    <g id=\"ytick_4\">\r\n     <g id=\"line2d_13\">\r\n      <path clip-path=\"url(#p405cc83323)\" d=\"M 32.9375 69.271579 \r\nL 367.7375 69.271579 \r\n\" style=\"fill:none;stroke:#cbcbcb;\"/>\r\n     </g>\r\n     <g id=\"line2d_14\"/>\r\n     <g id=\"text_7\">\r\n      <!-- 0.8 -->\r\n      <g style=\"fill:#252525;\" transform=\"translate(7.2 74.984079)scale(0.16 -0.16)\">\r\n       <defs>\r\n        <path d=\"M 15.5 52.5 \r\nQ 15.5 55.203125 16.5 57.203125 \r\nQ 17.5 59.203125 19.140625 60.59375 \r\nQ 20.796875 62 23.09375 62.703125 \r\nQ 25.40625 63.40625 27.90625 63.40625 \r\nQ 33.09375 63.40625 36.4375 60.65625 \r\nQ 39.796875 57.90625 39.796875 52.5 \r\nQ 39.796875 47.09375 36.5 44.09375 \r\nQ 33.203125 41.09375 28.09375 41.09375 \r\nQ 25.5 41.09375 23.203125 41.796875 \r\nQ 20.90625 42.5 19.203125 43.890625 \r\nQ 17.5 45.296875 16.5 47.4375 \r\nQ 15.5 49.59375 15.5 52.5 \r\nz\r\nM 6.5 52.796875 \r\nQ 6.5 48 9.203125 43.953125 \r\nQ 11.90625 39.90625 16.40625 38.09375 \r\nQ 10.40625 36 7.203125 31.34375 \r\nQ 4 26.703125 4 20.40625 \r\nQ 4 15 5.84375 10.953125 \r\nQ 7.703125 6.90625 10.953125 4.203125 \r\nQ 14.203125 1.5 18.59375 0.203125 \r\nQ 23 -1.09375 28.09375 -1.09375 \r\nQ 33 -1.09375 37.296875 0.296875 \r\nQ 41.59375 1.703125 44.75 4.453125 \r\nQ 47.90625 7.203125 49.75 11.203125 \r\nQ 51.59375 15.203125 51.59375 20.40625 \r\nQ 51.59375 27 48.5 31.546875 \r\nQ 45.40625 36.09375 39 38.09375 \r\nQ 43.5 40.09375 46.140625 44.046875 \r\nQ 48.796875 48 48.796875 52.796875 \r\nQ 48.796875 56.203125 47.59375 59.453125 \r\nQ 46.40625 62.703125 43.84375 65.25 \r\nQ 41.296875 67.796875 37.1875 69.34375 \r\nQ 33.09375 70.90625 27.296875 70.90625 \r\nQ 23.203125 70.90625 19.453125 69.703125 \r\nQ 15.703125 68.5 12.796875 66.203125 \r\nQ 9.90625 63.90625 8.203125 60.546875 \r\nQ 6.5 57.203125 6.5 52.796875 \r\nz\r\nM 13 20 \r\nQ 13 23.09375 14.140625 25.59375 \r\nQ 15.296875 28.09375 17.34375 29.890625 \r\nQ 19.40625 31.703125 22.15625 32.640625 \r\nQ 24.90625 33.59375 28 33.59375 \r\nQ 31 33.59375 33.640625 32.546875 \r\nQ 36.296875 31.5 38.296875 29.703125 \r\nQ 40.296875 27.90625 41.4375 25.453125 \r\nQ 42.59375 23 42.59375 20.09375 \r\nQ 42.59375 17.09375 41.546875 14.59375 \r\nQ 40.5 12.09375 38.546875 10.25 \r\nQ 36.59375 8.40625 33.9375 7.34375 \r\nQ 31.296875 6.296875 28.09375 6.296875 \r\nQ 21.5 6.296875 17.25 9.9375 \r\nQ 13 13.59375 13 20 \r\nz\r\n\" id=\"HelveticaNeue-56\"/>\r\n       </defs>\r\n       <use xlink:href=\"#HelveticaNeue-48\"/>\r\n       <use x=\"55.599991\" xlink:href=\"#HelveticaNeue-46\"/>\r\n       <use x=\"83.399979\" xlink:href=\"#HelveticaNeue-56\"/>\r\n      </g>\r\n     </g>\r\n    </g>\r\n    <g id=\"ytick_5\">\r\n     <g id=\"line2d_15\">\r\n      <path clip-path=\"url(#p405cc83323)\" d=\"M 32.9375 16.218947 \r\nL 367.7375 16.218947 \r\n\" style=\"fill:none;stroke:#cbcbcb;\"/>\r\n     </g>\r\n     <g id=\"line2d_16\"/>\r\n     <g id=\"text_8\">\r\n      <!-- 1.0 -->\r\n      <g style=\"fill:#252525;\" transform=\"translate(7.2 21.931447)scale(0.16 -0.16)\">\r\n       <defs>\r\n        <path d=\"M 35.59375 0 \r\nL 35.59375 70.90625 \r\nL 29.09375 70.90625 \r\nQ 28.40625 66.90625 26.5 64.296875 \r\nQ 24.59375 61.703125 21.84375 60.203125 \r\nQ 19.09375 58.703125 15.6875 58.140625 \r\nQ 12.296875 57.59375 8.703125 57.59375 \r\nL 8.703125 50.796875 \r\nL 27.09375 50.796875 \r\nL 27.09375 0 \r\nz\r\n\" id=\"HelveticaNeue-49\"/>\r\n       </defs>\r\n       <use xlink:href=\"#HelveticaNeue-49\"/>\r\n       <use x=\"55.599991\" xlink:href=\"#HelveticaNeue-46\"/>\r\n       <use x=\"83.399979\" xlink:href=\"#HelveticaNeue-48\"/>\r\n      </g>\r\n     </g>\r\n    </g>\r\n   </g>\r\n   <g id=\"line2d_17\">\r\n    <path clip-path=\"url(#p405cc83323)\" d=\"M 71.9975 98.185263 \r\nL 105.4775 98.185263 \r\nL 105.4775 74.576842 \r\nL 71.9975 74.576842 \r\nL 71.9975 98.185263 \r\n\" style=\"fill:none;stroke:#008fd5;\"/>\r\n   </g>\r\n   <g id=\"line2d_18\">\r\n    <path clip-path=\"url(#p405cc83323)\" d=\"M 88.7375 98.185263 \r\nL 88.7375 133.465263 \r\n\" style=\"fill:none;stroke:#008fd5;\"/>\r\n   </g>\r\n   <g id=\"line2d_19\">\r\n    <path clip-path=\"url(#p405cc83323)\" d=\"M 88.7375 74.576842 \r\nL 88.7375 49.907368 \r\n\" style=\"fill:none;stroke:#008fd5;\"/>\r\n   </g>\r\n   <g id=\"line2d_20\">\r\n    <path clip-path=\"url(#p405cc83323)\" d=\"M 80.3675 133.465263 \r\nL 97.1075 133.465263 \r\n\" style=\"fill:none;stroke:#000000;\"/>\r\n   </g>\r\n   <g id=\"line2d_21\">\r\n    <path clip-path=\"url(#p405cc83323)\" d=\"M 80.3675 49.907368 \r\nL 97.1075 49.907368 \r\n\" style=\"fill:none;stroke:#000000;\"/>\r\n   </g>\r\n   <g id=\"line2d_22\">\r\n    <defs>\r\n     <path d=\"M 0 3 \r\nC 0.795609 3 1.55874 2.683901 2.12132 2.12132 \r\nC 2.683901 1.55874 3 0.795609 3 0 \r\nC 3 -0.795609 2.683901 -1.55874 2.12132 -2.12132 \r\nC 1.55874 -2.683901 0.795609 -3 0 -3 \r\nC -0.795609 -3 -1.55874 -2.683901 -2.12132 -2.12132 \r\nC -2.683901 -1.55874 -3 -0.795609 -3 0 \r\nC -3 0.795609 -2.683901 1.55874 -2.12132 2.12132 \r\nC -1.55874 2.683901 -0.795609 3 0 3 \r\nz\r\n\" id=\"m835ba6cf24\" style=\"stroke:#000000;\"/>\r\n    </defs>\r\n    <g clip-path=\"url(#p405cc83323)\">\r\n     <use style=\"fill-opacity:0;stroke:#000000;\" x=\"88.7375\" xlink:href=\"#m835ba6cf24\" y=\"149.381053\"/>\r\n     <use style=\"fill-opacity:0;stroke:#000000;\" x=\"88.7375\" xlink:href=\"#m835ba6cf24\" y=\"135.852632\"/>\r\n     <use style=\"fill-opacity:0;stroke:#000000;\" x=\"88.7375\" xlink:href=\"#m835ba6cf24\" y=\"135.322105\"/>\r\n     <use style=\"fill-opacity:0;stroke:#000000;\" x=\"88.7375\" xlink:href=\"#m835ba6cf24\" y=\"136.648421\"/>\r\n     <use style=\"fill-opacity:0;stroke:#000000;\" x=\"88.7375\" xlink:href=\"#m835ba6cf24\" y=\"153.094737\"/>\r\n     <use style=\"fill-opacity:0;stroke:#000000;\" x=\"88.7375\" xlink:href=\"#m835ba6cf24\" y=\"165.296842\"/>\r\n     <use style=\"fill-opacity:0;stroke:#000000;\" x=\"88.7375\" xlink:href=\"#m835ba6cf24\" y=\"136.648421\"/>\r\n     <use style=\"fill-opacity:0;stroke:#000000;\" x=\"88.7375\" xlink:href=\"#m835ba6cf24\" y=\"136.117895\"/>\r\n     <use style=\"fill-opacity:0;stroke:#000000;\" x=\"88.7375\" xlink:href=\"#m835ba6cf24\" y=\"138.24\"/>\r\n     <use style=\"fill-opacity:0;stroke:#000000;\" x=\"88.7375\" xlink:href=\"#m835ba6cf24\" y=\"148.32\"/>\r\n     <use style=\"fill-opacity:0;stroke:#000000;\" x=\"88.7375\" xlink:href=\"#m835ba6cf24\" y=\"141.423158\"/>\r\n     <use style=\"fill-opacity:0;stroke:#000000;\" x=\"88.7375\" xlink:href=\"#m835ba6cf24\" y=\"150.972632\"/>\r\n     <use style=\"fill-opacity:0;stroke:#000000;\" x=\"88.7375\" xlink:href=\"#m835ba6cf24\" y=\"133.730526\"/>\r\n     <use style=\"fill-opacity:0;stroke:#000000;\" x=\"88.7375\" xlink:href=\"#m835ba6cf24\" y=\"146.197895\"/>\r\n     <use style=\"fill-opacity:0;stroke:#000000;\" x=\"88.7375\" xlink:href=\"#m835ba6cf24\" y=\"133.730526\"/>\r\n     <use style=\"fill-opacity:0;stroke:#000000;\" x=\"88.7375\" xlink:href=\"#m835ba6cf24\" y=\"136.648421\"/>\r\n     <use style=\"fill-opacity:0;stroke:#000000;\" x=\"88.7375\" xlink:href=\"#m835ba6cf24\" y=\"144.606316\"/>\r\n     <use style=\"fill-opacity:0;stroke:#000000;\" x=\"88.7375\" xlink:href=\"#m835ba6cf24\" y=\"137.444211\"/>\r\n     <use style=\"fill-opacity:0;stroke:#000000;\" x=\"88.7375\" xlink:href=\"#m835ba6cf24\" y=\"149.646316\"/>\r\n     <use style=\"fill-opacity:0;stroke:#000000;\" x=\"88.7375\" xlink:href=\"#m835ba6cf24\" y=\"140.096842\"/>\r\n     <use style=\"fill-opacity:0;stroke:#000000;\" x=\"88.7375\" xlink:href=\"#m835ba6cf24\" y=\"154.951579\"/>\r\n     <use style=\"fill-opacity:0;stroke:#000000;\" x=\"88.7375\" xlink:href=\"#m835ba6cf24\" y=\"139.566316\"/>\r\n     <use style=\"fill-opacity:0;stroke:#000000;\" x=\"88.7375\" xlink:href=\"#m835ba6cf24\" y=\"146.993684\"/>\r\n     <use style=\"fill-opacity:0;stroke:#000000;\" x=\"88.7375\" xlink:href=\"#m835ba6cf24\" y=\"136.913684\"/>\r\n     <use style=\"fill-opacity:0;stroke:#000000;\" x=\"88.7375\" xlink:href=\"#m835ba6cf24\" y=\"139.301053\"/>\r\n     <use style=\"fill-opacity:0;stroke:#000000;\" x=\"88.7375\" xlink:href=\"#m835ba6cf24\" y=\"145.402105\"/>\r\n     <use style=\"fill-opacity:0;stroke:#000000;\" x=\"88.7375\" xlink:href=\"#m835ba6cf24\" y=\"144.341053\"/>\r\n     <use style=\"fill-opacity:0;stroke:#000000;\" x=\"88.7375\" xlink:href=\"#m835ba6cf24\" y=\"136.913684\"/>\r\n     <use style=\"fill-opacity:0;stroke:#000000;\" x=\"88.7375\" xlink:href=\"#m835ba6cf24\" y=\"142.218947\"/>\r\n     <use style=\"fill-opacity:0;stroke:#000000;\" x=\"88.7375\" xlink:href=\"#m835ba6cf24\" y=\"138.24\"/>\r\n     <use style=\"fill-opacity:0;stroke:#000000;\" x=\"88.7375\" xlink:href=\"#m835ba6cf24\" y=\"136.383158\"/>\r\n     <use style=\"fill-opacity:0;stroke:#000000;\" x=\"88.7375\" xlink:href=\"#m835ba6cf24\" y=\"136.117895\"/>\r\n     <use style=\"fill-opacity:0;stroke:#000000;\" x=\"88.7375\" xlink:href=\"#m835ba6cf24\" y=\"141.157895\"/>\r\n     <use style=\"fill-opacity:0;stroke:#000000;\" x=\"88.7375\" xlink:href=\"#m835ba6cf24\" y=\"133.995789\"/>\r\n     <use style=\"fill-opacity:0;stroke:#000000;\" x=\"88.7375\" xlink:href=\"#m835ba6cf24\" y=\"151.768421\"/>\r\n     <use style=\"fill-opacity:0;stroke:#000000;\" x=\"88.7375\" xlink:href=\"#m835ba6cf24\" y=\"168.214737\"/>\r\n     <use style=\"fill-opacity:0;stroke:#000000;\" x=\"88.7375\" xlink:href=\"#m835ba6cf24\" y=\"138.770526\"/>\r\n     <use style=\"fill-opacity:0;stroke:#000000;\" x=\"88.7375\" xlink:href=\"#m835ba6cf24\" y=\"146.197895\"/>\r\n     <use style=\"fill-opacity:0;stroke:#000000;\" x=\"88.7375\" xlink:href=\"#m835ba6cf24\" y=\"140.362105\"/>\r\n     <use style=\"fill-opacity:0;stroke:#000000;\" x=\"88.7375\" xlink:href=\"#m835ba6cf24\" y=\"141.688421\"/>\r\n     <use style=\"fill-opacity:0;stroke:#000000;\" x=\"88.7375\" xlink:href=\"#m835ba6cf24\" y=\"180.682105\"/>\r\n     <use style=\"fill-opacity:0;stroke:#000000;\" x=\"88.7375\" xlink:href=\"#m835ba6cf24\" y=\"138.24\"/>\r\n     <use style=\"fill-opacity:0;stroke:#000000;\" x=\"88.7375\" xlink:href=\"#m835ba6cf24\" y=\"143.810526\"/>\r\n     <use style=\"fill-opacity:0;stroke:#000000;\" x=\"88.7375\" xlink:href=\"#m835ba6cf24\" y=\"135.587368\"/>\r\n     <use style=\"fill-opacity:0;stroke:#000000;\" x=\"88.7375\" xlink:href=\"#m835ba6cf24\" y=\"145.667368\"/>\r\n     <use style=\"fill-opacity:0;stroke:#000000;\" x=\"88.7375\" xlink:href=\"#m835ba6cf24\" y=\"157.073684\"/>\r\n     <use style=\"fill-opacity:0;stroke:#000000;\" x=\"88.7375\" xlink:href=\"#m835ba6cf24\" y=\"143.28\"/>\r\n     <use style=\"fill-opacity:0;stroke:#000000;\" x=\"88.7375\" xlink:href=\"#m835ba6cf24\" y=\"147.524211\"/>\r\n     <use style=\"fill-opacity:0;stroke:#000000;\" x=\"88.7375\" xlink:href=\"#m835ba6cf24\" y=\"152.564211\"/>\r\n     <use style=\"fill-opacity:0;stroke:#000000;\" x=\"88.7375\" xlink:href=\"#m835ba6cf24\" y=\"136.913684\"/>\r\n     <use style=\"fill-opacity:0;stroke:#000000;\" x=\"88.7375\" xlink:href=\"#m835ba6cf24\" y=\"145.932632\"/>\r\n     <use style=\"fill-opacity:0;stroke:#000000;\" x=\"88.7375\" xlink:href=\"#m835ba6cf24\" y=\"181.477895\"/>\r\n     <use style=\"fill-opacity:0;stroke:#000000;\" x=\"88.7375\" xlink:href=\"#m835ba6cf24\" y=\"140.892632\"/>\r\n     <use style=\"fill-opacity:0;stroke:#000000;\" x=\"88.7375\" xlink:href=\"#m835ba6cf24\" y=\"134.791579\"/>\r\n     <use style=\"fill-opacity:0;stroke:#000000;\" x=\"88.7375\" xlink:href=\"#m835ba6cf24\" y=\"154.155789\"/>\r\n     <use style=\"fill-opacity:0;stroke:#000000;\" x=\"88.7375\" xlink:href=\"#m835ba6cf24\" y=\"148.850526\"/>\r\n     <use style=\"fill-opacity:0;stroke:#000000;\" x=\"88.7375\" xlink:href=\"#m835ba6cf24\" y=\"156.012632\"/>\r\n     <use style=\"fill-opacity:0;stroke:#000000;\" x=\"88.7375\" xlink:href=\"#m835ba6cf24\" y=\"157.604211\"/>\r\n    </g>\r\n   </g>\r\n   <g id=\"line2d_23\">\r\n    <path clip-path=\"url(#p405cc83323)\" d=\"M 183.5975 115.427368 \r\nL 217.0775 115.427368 \r\nL 217.0775 62.374737 \r\nL 183.5975 62.374737 \r\nL 183.5975 115.427368 \r\n\" style=\"fill:none;stroke:#008fd5;\"/>\r\n   </g>\r\n   <g id=\"line2d_24\">\r\n    <path clip-path=\"url(#p405cc83323)\" d=\"M 200.3375 115.427368 \r\nL 200.3375 189.966316 \r\n\" style=\"fill:none;stroke:#008fd5;\"/>\r\n   </g>\r\n   <g id=\"line2d_25\">\r\n    <path clip-path=\"url(#p405cc83323)\" d=\"M 200.3375 62.374737 \r\nL 200.3375 17.28 \r\n\" style=\"fill:none;stroke:#008fd5;\"/>\r\n   </g>\r\n   <g id=\"line2d_26\">\r\n    <path clip-path=\"url(#p405cc83323)\" d=\"M 191.9675 189.966316 \r\nL 208.7075 189.966316 \r\n\" style=\"fill:none;stroke:#000000;\"/>\r\n   </g>\r\n   <g id=\"line2d_27\">\r\n    <path clip-path=\"url(#p405cc83323)\" d=\"M 191.9675 17.28 \r\nL 208.7075 17.28 \r\n\" style=\"fill:none;stroke:#000000;\"/>\r\n   </g>\r\n   <g id=\"line2d_28\">\r\n    <g clip-path=\"url(#p405cc83323)\">\r\n     <use style=\"fill-opacity:0;stroke:#000000;\" x=\"200.3375\" xlink:href=\"#m835ba6cf24\" y=\"203.76\"/>\r\n     <use style=\"fill-opacity:0;stroke:#000000;\" x=\"200.3375\" xlink:href=\"#m835ba6cf24\" y=\"213.84\"/>\r\n     <use style=\"fill-opacity:0;stroke:#000000;\" x=\"200.3375\" xlink:href=\"#m835ba6cf24\" y=\"198.189474\"/>\r\n     <use style=\"fill-opacity:0;stroke:#000000;\" x=\"200.3375\" xlink:href=\"#m835ba6cf24\" y=\"198.189474\"/>\r\n     <use style=\"fill-opacity:0;stroke:#000000;\" x=\"200.3375\" xlink:href=\"#m835ba6cf24\" y=\"197.393684\"/>\r\n     <use style=\"fill-opacity:0;stroke:#000000;\" x=\"200.3375\" xlink:href=\"#m835ba6cf24\" y=\"218.88\"/>\r\n     <use style=\"fill-opacity:0;stroke:#000000;\" x=\"200.3375\" xlink:href=\"#m835ba6cf24\" y=\"196.332632\"/>\r\n     <use style=\"fill-opacity:0;stroke:#000000;\" x=\"200.3375\" xlink:href=\"#m835ba6cf24\" y=\"205.882105\"/>\r\n    </g>\r\n   </g>\r\n   <g id=\"line2d_29\">\r\n    <path clip-path=\"url(#p405cc83323)\" d=\"M 295.1975 34.256842 \r\nL 328.6775 34.256842 \r\nL 328.6775 26.033684 \r\nL 295.1975 26.033684 \r\nL 295.1975 34.256842 \r\n\" style=\"fill:none;stroke:#008fd5;\"/>\r\n   </g>\r\n   <g id=\"line2d_30\">\r\n    <path clip-path=\"url(#p405cc83323)\" d=\"M 311.9375 34.256842 \r\nL 311.9375 46.458947 \r\n\" style=\"fill:none;stroke:#008fd5;\"/>\r\n   </g>\r\n   <g id=\"line2d_31\">\r\n    <path clip-path=\"url(#p405cc83323)\" d=\"M 311.9375 26.033684 \r\nL 311.9375 20.197895 \r\n\" style=\"fill:none;stroke:#008fd5;\"/>\r\n   </g>\r\n   <g id=\"line2d_32\">\r\n    <path clip-path=\"url(#p405cc83323)\" d=\"M 303.5675 46.458947 \r\nL 320.3075 46.458947 \r\n\" style=\"fill:none;stroke:#000000;\"/>\r\n   </g>\r\n   <g id=\"line2d_33\">\r\n    <path clip-path=\"url(#p405cc83323)\" d=\"M 303.5675 20.197895 \r\nL 320.3075 20.197895 \r\n\" style=\"fill:none;stroke:#000000;\"/>\r\n   </g>\r\n   <g id=\"line2d_34\">\r\n    <g clip-path=\"url(#p405cc83323)\">\r\n     <use style=\"fill-opacity:0;stroke:#000000;\" x=\"311.9375\" xlink:href=\"#m835ba6cf24\" y=\"51.498947\"/>\r\n     <use style=\"fill-opacity:0;stroke:#000000;\" x=\"311.9375\" xlink:href=\"#m835ba6cf24\" y=\"49.642105\"/>\r\n     <use style=\"fill-opacity:0;stroke:#000000;\" x=\"311.9375\" xlink:href=\"#m835ba6cf24\" y=\"52.56\"/>\r\n     <use style=\"fill-opacity:0;stroke:#000000;\" x=\"311.9375\" xlink:href=\"#m835ba6cf24\" y=\"61.048421\"/>\r\n     <use style=\"fill-opacity:0;stroke:#000000;\" x=\"311.9375\" xlink:href=\"#m835ba6cf24\" y=\"48.050526\"/>\r\n     <use style=\"fill-opacity:0;stroke:#000000;\" x=\"311.9375\" xlink:href=\"#m835ba6cf24\" y=\"47.52\"/>\r\n     <use style=\"fill-opacity:0;stroke:#000000;\" x=\"311.9375\" xlink:href=\"#m835ba6cf24\" y=\"49.111579\"/>\r\n     <use style=\"fill-opacity:0;stroke:#000000;\" x=\"311.9375\" xlink:href=\"#m835ba6cf24\" y=\"49.642105\"/>\r\n     <use style=\"fill-opacity:0;stroke:#000000;\" x=\"311.9375\" xlink:href=\"#m835ba6cf24\" y=\"58.661053\"/>\r\n     <use style=\"fill-opacity:0;stroke:#000000;\" x=\"311.9375\" xlink:href=\"#m835ba6cf24\" y=\"47.254737\"/>\r\n     <use style=\"fill-opacity:0;stroke:#000000;\" x=\"311.9375\" xlink:href=\"#m835ba6cf24\" y=\"65.027368\"/>\r\n     <use style=\"fill-opacity:0;stroke:#000000;\" x=\"311.9375\" xlink:href=\"#m835ba6cf24\" y=\"54.151579\"/>\r\n     <use style=\"fill-opacity:0;stroke:#000000;\" x=\"311.9375\" xlink:href=\"#m835ba6cf24\" y=\"46.989474\"/>\r\n     <use style=\"fill-opacity:0;stroke:#000000;\" x=\"311.9375\" xlink:href=\"#m835ba6cf24\" y=\"47.52\"/>\r\n     <use style=\"fill-opacity:0;stroke:#000000;\" x=\"311.9375\" xlink:href=\"#m835ba6cf24\" y=\"57.334737\"/>\r\n     <use style=\"fill-opacity:0;stroke:#000000;\" x=\"311.9375\" xlink:href=\"#m835ba6cf24\" y=\"69.271579\"/>\r\n     <use style=\"fill-opacity:0;stroke:#000000;\" x=\"311.9375\" xlink:href=\"#m835ba6cf24\" y=\"61.313684\"/>\r\n     <use style=\"fill-opacity:0;stroke:#000000;\" x=\"311.9375\" xlink:href=\"#m835ba6cf24\" y=\"47.785263\"/>\r\n     <use style=\"fill-opacity:0;stroke:#000000;\" x=\"311.9375\" xlink:href=\"#m835ba6cf24\" y=\"56.273684\"/>\r\n     <use style=\"fill-opacity:0;stroke:#000000;\" x=\"311.9375\" xlink:href=\"#m835ba6cf24\" y=\"50.172632\"/>\r\n     <use style=\"fill-opacity:0;stroke:#000000;\" x=\"311.9375\" xlink:href=\"#m835ba6cf24\" y=\"50.703158\"/>\r\n     <use style=\"fill-opacity:0;stroke:#000000;\" x=\"311.9375\" xlink:href=\"#m835ba6cf24\" y=\"54.947368\"/>\r\n     <use style=\"fill-opacity:0;stroke:#000000;\" x=\"311.9375\" xlink:href=\"#m835ba6cf24\" y=\"46.989474\"/>\r\n     <use style=\"fill-opacity:0;stroke:#000000;\" x=\"311.9375\" xlink:href=\"#m835ba6cf24\" y=\"46.724211\"/>\r\n     <use style=\"fill-opacity:0;stroke:#000000;\" x=\"311.9375\" xlink:href=\"#m835ba6cf24\" y=\"74.842105\"/>\r\n     <use style=\"fill-opacity:0;stroke:#000000;\" x=\"311.9375\" xlink:href=\"#m835ba6cf24\" y=\"49.642105\"/>\r\n     <use style=\"fill-opacity:0;stroke:#000000;\" x=\"311.9375\" xlink:href=\"#m835ba6cf24\" y=\"49.376842\"/>\r\n     <use style=\"fill-opacity:0;stroke:#000000;\" x=\"311.9375\" xlink:href=\"#m835ba6cf24\" y=\"48.315789\"/>\r\n     <use style=\"fill-opacity:0;stroke:#000000;\" x=\"311.9375\" xlink:href=\"#m835ba6cf24\" y=\"53.621053\"/>\r\n     <use style=\"fill-opacity:0;stroke:#000000;\" x=\"311.9375\" xlink:href=\"#m835ba6cf24\" y=\"56.273684\"/>\r\n     <use style=\"fill-opacity:0;stroke:#000000;\" x=\"311.9375\" xlink:href=\"#m835ba6cf24\" y=\"56.273684\"/>\r\n     <use style=\"fill-opacity:0;stroke:#000000;\" x=\"311.9375\" xlink:href=\"#m835ba6cf24\" y=\"52.56\"/>\r\n     <use style=\"fill-opacity:0;stroke:#000000;\" x=\"311.9375\" xlink:href=\"#m835ba6cf24\" y=\"51.764211\"/>\r\n     <use style=\"fill-opacity:0;stroke:#000000;\" x=\"311.9375\" xlink:href=\"#m835ba6cf24\" y=\"60.783158\"/>\r\n     <use style=\"fill-opacity:0;stroke:#000000;\" x=\"311.9375\" xlink:href=\"#m835ba6cf24\" y=\"61.578947\"/>\r\n     <use style=\"fill-opacity:0;stroke:#000000;\" x=\"311.9375\" xlink:href=\"#m835ba6cf24\" y=\"61.048421\"/>\r\n     <use style=\"fill-opacity:0;stroke:#000000;\" x=\"311.9375\" xlink:href=\"#m835ba6cf24\" y=\"52.825263\"/>\r\n     <use style=\"fill-opacity:0;stroke:#000000;\" x=\"311.9375\" xlink:href=\"#m835ba6cf24\" y=\"49.907368\"/>\r\n     <use style=\"fill-opacity:0;stroke:#000000;\" x=\"311.9375\" xlink:href=\"#m835ba6cf24\" y=\"55.477895\"/>\r\n     <use style=\"fill-opacity:0;stroke:#000000;\" x=\"311.9375\" xlink:href=\"#m835ba6cf24\" y=\"57.069474\"/>\r\n     <use style=\"fill-opacity:0;stroke:#000000;\" x=\"311.9375\" xlink:href=\"#m835ba6cf24\" y=\"47.785263\"/>\r\n     <use style=\"fill-opacity:0;stroke:#000000;\" x=\"311.9375\" xlink:href=\"#m835ba6cf24\" y=\"58.926316\"/>\r\n     <use style=\"fill-opacity:0;stroke:#000000;\" x=\"311.9375\" xlink:href=\"#m835ba6cf24\" y=\"61.048421\"/>\r\n     <use style=\"fill-opacity:0;stroke:#000000;\" x=\"311.9375\" xlink:href=\"#m835ba6cf24\" y=\"59.456842\"/>\r\n     <use style=\"fill-opacity:0;stroke:#000000;\" x=\"311.9375\" xlink:href=\"#m835ba6cf24\" y=\"52.029474\"/>\r\n     <use style=\"fill-opacity:0;stroke:#000000;\" x=\"311.9375\" xlink:href=\"#m835ba6cf24\" y=\"57.6\"/>\r\n     <use style=\"fill-opacity:0;stroke:#000000;\" x=\"311.9375\" xlink:href=\"#m835ba6cf24\" y=\"59.722105\"/>\r\n     <use style=\"fill-opacity:0;stroke:#000000;\" x=\"311.9375\" xlink:href=\"#m835ba6cf24\" y=\"51.498947\"/>\r\n     <use style=\"fill-opacity:0;stroke:#000000;\" x=\"311.9375\" xlink:href=\"#m835ba6cf24\" y=\"51.233684\"/>\r\n     <use style=\"fill-opacity:0;stroke:#000000;\" x=\"311.9375\" xlink:href=\"#m835ba6cf24\" y=\"52.825263\"/>\r\n     <use style=\"fill-opacity:0;stroke:#000000;\" x=\"311.9375\" xlink:href=\"#m835ba6cf24\" y=\"49.642105\"/>\r\n     <use style=\"fill-opacity:0;stroke:#000000;\" x=\"311.9375\" xlink:href=\"#m835ba6cf24\" y=\"51.233684\"/>\r\n     <use style=\"fill-opacity:0;stroke:#000000;\" x=\"311.9375\" xlink:href=\"#m835ba6cf24\" y=\"48.581053\"/>\r\n     <use style=\"fill-opacity:0;stroke:#000000;\" x=\"311.9375\" xlink:href=\"#m835ba6cf24\" y=\"47.254737\"/>\r\n     <use style=\"fill-opacity:0;stroke:#000000;\" x=\"311.9375\" xlink:href=\"#m835ba6cf24\" y=\"55.743158\"/>\r\n     <use style=\"fill-opacity:0;stroke:#000000;\" x=\"311.9375\" xlink:href=\"#m835ba6cf24\" y=\"47.254737\"/>\r\n     <use style=\"fill-opacity:0;stroke:#000000;\" x=\"311.9375\" xlink:href=\"#m835ba6cf24\" y=\"49.376842\"/>\r\n     <use style=\"fill-opacity:0;stroke:#000000;\" x=\"311.9375\" xlink:href=\"#m835ba6cf24\" y=\"48.846316\"/>\r\n     <use style=\"fill-opacity:0;stroke:#000000;\" x=\"311.9375\" xlink:href=\"#m835ba6cf24\" y=\"50.968421\"/>\r\n     <use style=\"fill-opacity:0;stroke:#000000;\" x=\"311.9375\" xlink:href=\"#m835ba6cf24\" y=\"47.785263\"/>\r\n     <use style=\"fill-opacity:0;stroke:#000000;\" x=\"311.9375\" xlink:href=\"#m835ba6cf24\" y=\"49.642105\"/>\r\n     <use style=\"fill-opacity:0;stroke:#000000;\" x=\"311.9375\" xlink:href=\"#m835ba6cf24\" y=\"52.56\"/>\r\n     <use style=\"fill-opacity:0;stroke:#000000;\" x=\"311.9375\" xlink:href=\"#m835ba6cf24\" y=\"47.52\"/>\r\n     <use style=\"fill-opacity:0;stroke:#000000;\" x=\"311.9375\" xlink:href=\"#m835ba6cf24\" y=\"53.090526\"/>\r\n     <use style=\"fill-opacity:0;stroke:#000000;\" x=\"311.9375\" xlink:href=\"#m835ba6cf24\" y=\"48.050526\"/>\r\n     <use style=\"fill-opacity:0;stroke:#000000;\" x=\"311.9375\" xlink:href=\"#m835ba6cf24\" y=\"48.315789\"/>\r\n     <use style=\"fill-opacity:0;stroke:#000000;\" x=\"311.9375\" xlink:href=\"#m835ba6cf24\" y=\"52.825263\"/>\r\n     <use style=\"fill-opacity:0;stroke:#000000;\" x=\"311.9375\" xlink:href=\"#m835ba6cf24\" y=\"51.233684\"/>\r\n     <use style=\"fill-opacity:0;stroke:#000000;\" x=\"311.9375\" xlink:href=\"#m835ba6cf24\" y=\"53.621053\"/>\r\n     <use style=\"fill-opacity:0;stroke:#000000;\" x=\"311.9375\" xlink:href=\"#m835ba6cf24\" y=\"52.825263\"/>\r\n     <use style=\"fill-opacity:0;stroke:#000000;\" x=\"311.9375\" xlink:href=\"#m835ba6cf24\" y=\"56.804211\"/>\r\n     <use style=\"fill-opacity:0;stroke:#000000;\" x=\"311.9375\" xlink:href=\"#m835ba6cf24\" y=\"48.846316\"/>\r\n     <use style=\"fill-opacity:0;stroke:#000000;\" x=\"311.9375\" xlink:href=\"#m835ba6cf24\" y=\"47.785263\"/>\r\n     <use style=\"fill-opacity:0;stroke:#000000;\" x=\"311.9375\" xlink:href=\"#m835ba6cf24\" y=\"52.294737\"/>\r\n     <use style=\"fill-opacity:0;stroke:#000000;\" x=\"311.9375\" xlink:href=\"#m835ba6cf24\" y=\"53.621053\"/>\r\n     <use style=\"fill-opacity:0;stroke:#000000;\" x=\"311.9375\" xlink:href=\"#m835ba6cf24\" y=\"65.823158\"/>\r\n     <use style=\"fill-opacity:0;stroke:#000000;\" x=\"311.9375\" xlink:href=\"#m835ba6cf24\" y=\"58.130526\"/>\r\n     <use style=\"fill-opacity:0;stroke:#000000;\" x=\"311.9375\" xlink:href=\"#m835ba6cf24\" y=\"50.437895\"/>\r\n     <use style=\"fill-opacity:0;stroke:#000000;\" x=\"311.9375\" xlink:href=\"#m835ba6cf24\" y=\"53.355789\"/>\r\n     <use style=\"fill-opacity:0;stroke:#000000;\" x=\"311.9375\" xlink:href=\"#m835ba6cf24\" y=\"50.437895\"/>\r\n     <use style=\"fill-opacity:0;stroke:#000000;\" x=\"311.9375\" xlink:href=\"#m835ba6cf24\" y=\"48.846316\"/>\r\n     <use style=\"fill-opacity:0;stroke:#000000;\" x=\"311.9375\" xlink:href=\"#m835ba6cf24\" y=\"48.846316\"/>\r\n     <use style=\"fill-opacity:0;stroke:#000000;\" x=\"311.9375\" xlink:href=\"#m835ba6cf24\" y=\"73.515789\"/>\r\n     <use style=\"fill-opacity:0;stroke:#000000;\" x=\"311.9375\" xlink:href=\"#m835ba6cf24\" y=\"49.111579\"/>\r\n     <use style=\"fill-opacity:0;stroke:#000000;\" x=\"311.9375\" xlink:href=\"#m835ba6cf24\" y=\"51.498947\"/>\r\n     <use style=\"fill-opacity:0;stroke:#000000;\" x=\"311.9375\" xlink:href=\"#m835ba6cf24\" y=\"50.172632\"/>\r\n     <use style=\"fill-opacity:0;stroke:#000000;\" x=\"311.9375\" xlink:href=\"#m835ba6cf24\" y=\"53.355789\"/>\r\n     <use style=\"fill-opacity:0;stroke:#000000;\" x=\"311.9375\" xlink:href=\"#m835ba6cf24\" y=\"50.968421\"/>\r\n     <use style=\"fill-opacity:0;stroke:#000000;\" x=\"311.9375\" xlink:href=\"#m835ba6cf24\" y=\"59.456842\"/>\r\n     <use style=\"fill-opacity:0;stroke:#000000;\" x=\"311.9375\" xlink:href=\"#m835ba6cf24\" y=\"57.069474\"/>\r\n     <use style=\"fill-opacity:0;stroke:#000000;\" x=\"311.9375\" xlink:href=\"#m835ba6cf24\" y=\"78.821053\"/>\r\n     <use style=\"fill-opacity:0;stroke:#000000;\" x=\"311.9375\" xlink:href=\"#m835ba6cf24\" y=\"54.947368\"/>\r\n     <use style=\"fill-opacity:0;stroke:#000000;\" x=\"311.9375\" xlink:href=\"#m835ba6cf24\" y=\"51.233684\"/>\r\n     <use style=\"fill-opacity:0;stroke:#000000;\" x=\"311.9375\" xlink:href=\"#m835ba6cf24\" y=\"47.52\"/>\r\n     <use style=\"fill-opacity:0;stroke:#000000;\" x=\"311.9375\" xlink:href=\"#m835ba6cf24\" y=\"47.254737\"/>\r\n     <use style=\"fill-opacity:0;stroke:#000000;\" x=\"311.9375\" xlink:href=\"#m835ba6cf24\" y=\"53.621053\"/>\r\n     <use style=\"fill-opacity:0;stroke:#000000;\" x=\"311.9375\" xlink:href=\"#m835ba6cf24\" y=\"52.56\"/>\r\n     <use style=\"fill-opacity:0;stroke:#000000;\" x=\"311.9375\" xlink:href=\"#m835ba6cf24\" y=\"48.846316\"/>\r\n     <use style=\"fill-opacity:0;stroke:#000000;\" x=\"311.9375\" xlink:href=\"#m835ba6cf24\" y=\"57.865263\"/>\r\n     <use style=\"fill-opacity:0;stroke:#000000;\" x=\"311.9375\" xlink:href=\"#m835ba6cf24\" y=\"57.6\"/>\r\n     <use style=\"fill-opacity:0;stroke:#000000;\" x=\"311.9375\" xlink:href=\"#m835ba6cf24\" y=\"57.069474\"/>\r\n     <use style=\"fill-opacity:0;stroke:#000000;\" x=\"311.9375\" xlink:href=\"#m835ba6cf24\" y=\"49.376842\"/>\r\n     <use style=\"fill-opacity:0;stroke:#000000;\" x=\"311.9375\" xlink:href=\"#m835ba6cf24\" y=\"48.581053\"/>\r\n     <use style=\"fill-opacity:0;stroke:#000000;\" x=\"311.9375\" xlink:href=\"#m835ba6cf24\" y=\"46.724211\"/>\r\n     <use style=\"fill-opacity:0;stroke:#000000;\" x=\"311.9375\" xlink:href=\"#m835ba6cf24\" y=\"53.621053\"/>\r\n     <use style=\"fill-opacity:0;stroke:#000000;\" x=\"311.9375\" xlink:href=\"#m835ba6cf24\" y=\"52.56\"/>\r\n     <use style=\"fill-opacity:0;stroke:#000000;\" x=\"311.9375\" xlink:href=\"#m835ba6cf24\" y=\"50.437895\"/>\r\n     <use style=\"fill-opacity:0;stroke:#000000;\" x=\"311.9375\" xlink:href=\"#m835ba6cf24\" y=\"52.029474\"/>\r\n     <use style=\"fill-opacity:0;stroke:#000000;\" x=\"311.9375\" xlink:href=\"#m835ba6cf24\" y=\"69.271579\"/>\r\n    </g>\r\n   </g>\r\n   <g id=\"line2d_35\">\r\n    <path clip-path=\"url(#p405cc83323)\" d=\"M 71.9975 84.656842 \r\nL 105.4775 84.656842 \r\n\" style=\"fill:none;stroke:#e5ae38;\"/>\r\n   </g>\r\n   <g id=\"line2d_36\">\r\n    <path clip-path=\"url(#p405cc83323)\" d=\"M 183.5975 87.574737 \r\nL 217.0775 87.574737 \r\n\" style=\"fill:none;stroke:#e5ae38;\"/>\r\n   </g>\r\n   <g id=\"line2d_37\">\r\n    <path clip-path=\"url(#p405cc83323)\" d=\"M 295.1975 29.482105 \r\nL 328.6775 29.482105 \r\n\" style=\"fill:none;stroke:#e5ae38;\"/>\r\n   </g>\r\n   <g id=\"patch_3\">\r\n    <path d=\"M 32.9375 228.96 \r\nL 32.9375 7.2 \r\n\" style=\"fill:none;stroke:#ffffff;stroke-linecap:square;stroke-linejoin:miter;stroke-width:2;\"/>\r\n   </g>\r\n   <g id=\"patch_4\">\r\n    <path d=\"M 367.7375 228.96 \r\nL 367.7375 7.2 \r\n\" style=\"fill:none;stroke:#ffffff;stroke-linecap:square;stroke-linejoin:miter;stroke-width:2;\"/>\r\n   </g>\r\n   <g id=\"patch_5\">\r\n    <path d=\"M 32.9375 228.96 \r\nL 367.7375 228.96 \r\n\" style=\"fill:none;stroke:#ffffff;stroke-linecap:square;stroke-linejoin:miter;stroke-width:2;\"/>\r\n   </g>\r\n   <g id=\"patch_6\">\r\n    <path d=\"M 32.9375 7.2 \r\nL 367.7375 7.2 \r\n\" style=\"fill:none;stroke:#ffffff;stroke-linecap:square;stroke-linejoin:miter;stroke-width:2;\"/>\r\n   </g>\r\n  </g>\r\n </g>\r\n <defs>\r\n  <clipPath id=\"p405cc83323\">\r\n   <rect height=\"221.76\" width=\"334.8\" x=\"32.9375\" y=\"7.2\"/>\r\n  </clipPath>\r\n </defs>\r\n</svg>\r\n",
      "image/png": "[encoded data removed]"
     },
     "metadata": {}
    }
   ],
   "source": [
    "dataset[['Circ.', 'Round', 'Solidity']].boxplot()"
   ]
  },
  {
   "cell_type": "code",
   "execution_count": null,
   "metadata": {},
   "outputs": [],
   "source": []
  }
 ],
 "metadata": {
  "kernelspec": {
   "display_name": "Python 3",
   "language": "python",
   "name": "python3"
  },
  "language_info": {
   "codemirror_mode": {
    "name": "ipython",
    "version": 3
   },
   "file_extension": ".py",
   "mimetype": "text/x-python",
   "name": "python",
   "nbconvert_exporter": "python",
   "pygments_lexer": "ipython3",
   "version": "3.7.9-final"
  }
 },
 "nbformat": 4,
 "nbformat_minor": 4
}